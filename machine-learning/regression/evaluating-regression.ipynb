{
 "cells": [
  {
   "cell_type": "markdown",
   "metadata": {},
   "source": [
    "# Evaluating Regression\n",
    "\n",
    "## Error Metrics\n",
    "\n",
    "Error metrics, or residuals, are used in linear regression models to evaluate performance. They measure the difference between the actual and predicted model values. \n",
    "\n",
    "### Mean Absolute Error\n",
    "\n",
    "Mean Absolute Error (MAE) is the average absolute difference between actual and predicted model values. \n",
    "\n",
    "\\begin{equation*}      \n",
    "\\text{MAE} = \\sum_{i=1}^{n} \\frac{|y_i - x_i|}{n}\n",
    "\\label{eq:1} \\tag{1}\n",
    "\\end{equation*} \n",
    "\n",
    "MAE handles outliers well because of the absolute value and large errors don't overpower the smaller ones, so its output gives an unbiased view of the model's performance. "
   ]
  },
  {
   "cell_type": "code",
   "execution_count": 22,
   "metadata": {},
   "outputs": [
    {
     "data": {
      "text/plain": [
       "0.575"
      ]
     },
     "execution_count": 22,
     "metadata": {},
     "output_type": "execute_result"
    }
   ],
   "source": [
    "from sklearn.metrics import mean_absolute_error\n",
    "y_actual = [3, -0.5, 1, 3.5]\n",
    "y_pred = [2.5, 0, 0.2, 3]\n",
    "mean_absolute_error(y_actual, y_pred)"
   ]
  },
  {
   "cell_type": "markdown",
   "metadata": {},
   "source": [
    "### Mean Squared Error\n",
    "\n",
    "Mean Squared Error (MSE) is the average squared difference between actual and predicted model values. \n",
    "\n",
    "\\begin{equation*}\n",
    "\\text{MSE} = \\frac{1}{n}\\sum_{i=1}^{n}(y_i - \\hat{y_i})^2 \n",
    "\\label{eq:2} \\tag{2}\n",
    "\\end{equation*} \n",
    "\n",
    "Unlike MAE, MSE heavily counts against outliers. The square allows larger errors to overpower the smaller ones, which means a single outlier could yield a high error value--allowing us to assume that the model is worse than it actually is. On the other hand, if all the errors are small (i.e. less than 1), we may assume the model is better than it actually is.  "
   ]
  },
  {
   "cell_type": "code",
   "execution_count": 23,
   "metadata": {},
   "outputs": [
    {
     "data": {
      "text/plain": [
       "0.34750000000000003"
      ]
     },
     "execution_count": 23,
     "metadata": {},
     "output_type": "execute_result"
    }
   ],
   "source": [
    "from sklearn.metrics import mean_squared_error\n",
    "mean_squared_error(y_actual, y_pred)"
   ]
  },
  {
   "cell_type": "markdown",
   "metadata": {},
   "source": [
    "### Root Mean Squared Error\n",
    "\n",
    "Root Mean Squared Error (RMSE) is the average root-squared difference between actual and predicted model values. It's the root-squared value of MSE.\n",
    "\n",
    "\\begin{equation*}\n",
    "\\text{RMSE} = \\sqrt{\\frac{1}{n}\\sum_{i=1}^{n}(y_i - \\hat{y_i})^2} \n",
    "\\label{eq:3} \\tag{3}\n",
    "\\end{equation*}\n",
    "\n",
    "RMSE is the easiest statistic to interpret because it's measured in the same units as what we're trying to predict. For example, if we were to predict rent prices using linear regression, RMSE would show the error of our model in dollars. "
   ]
  },
  {
   "cell_type": "code",
   "execution_count": 24,
   "metadata": {},
   "outputs": [
    {
     "data": {
      "text/plain": [
       "0.5894913061275798"
      ]
     },
     "execution_count": 24,
     "metadata": {},
     "output_type": "execute_result"
    }
   ],
   "source": [
    "from sklearn.metrics import mean_squared_error\n",
    "mean_squared_error(y_actual, y_pred, squared=False)"
   ]
  },
  {
   "cell_type": "markdown",
   "metadata": {},
   "source": [
    "### R-Squared\n",
    "\n",
    "The $R^2$ score, or the coefficient of determination, measures the strength of the relationship between independent and dependent variables $X$ and $Y$. The closer it is to 1, the better. $R^2$ is the square of the correlation coefficient, $R$: \n",
    "\n",
    "\\begin{equation*}   \n",
    "\\text{R} = \\frac{\\sum (x - \\bar{x})(y - \\bar{y})}{\\sqrt{\\sum (x - \\bar{x})^2} \\sqrt{\\sum (y - \\bar{y})^2}}\n",
    "\\label{eq:4} \\tag{4}\n",
    "\\end{equation*} \n",
    "\n",
    "Below is the equation for $R^2$, where $\\text{SSE}$ is the sum of squared errors and $\\text{SST}$ is the total sum of squares.\n",
    "\n",
    "\\begin{equation*}   \n",
    "\\text{R}^2 = 1 - \\frac{\\sum_{i=1}^m (y_i - \\hat{y_i})^2}{\\sum_{i=1}^m (y_i - \\bar{y})^2} = 1 - \\frac{\\text{SSE}}{\\text{SST}}\n",
    "\\label{eq:5} \\tag{5}\n",
    "\\end{equation*} \n",
    "\n",
    "The **Adjusted $R^2$** score is a modified version of $R^2$ that accounts for the number of predictors in the model. It increases if a new term improves the fit and decreases if there's little to no improvement. Below is the equation for $\\text{R}_{\\text{adj}}^2$, where $n$ is the total sample size and $k$ is the number of predictors.\n",
    "\n",
    "\\begin{equation*}\n",
    "\\text{R}_{\\text{adj}}^2 =  1 - \\frac{\\text{SSE}}{\\text{SST}} \\cdot \\frac{n-1}{n-k-1} \n",
    "\\label{eq:6} \\tag{6}\n",
    "\\end{equation*} "
   ]
  },
  {
   "cell_type": "code",
   "execution_count": null,
   "metadata": {},
   "outputs": [],
   "source": [
    "from sklearn.metrics import r2_score\n",
    "r2 = r2_score(y_actual, y_pred)\n",
    "n, k = len(y_actual), x_pred.shape[1]\n",
    "adjusted_r2 = 1 - (1 - r2) * (n - 1) / (n - k - 1)"
   ]
  },
  {
   "cell_type": "markdown",
   "metadata": {},
   "source": [
    "#### Derivation\n",
    "\n",
    "The correlation coefficient $R$ can be calculated as the cosine of the angle $\\theta$ between two vectors $u$ and $v$, where $u$ and $v$ are the normalized vectors of $x$ and $y$ (i.e. $u = x - \\bar{x}$ and $v = y - \\bar{y}$). We can use the [definition of the dot product](http://sites.science.oregonstate.edu/math/home/programs/undergrad/CalculusQuestStudyGuides/vcalc/dotprod/dotprod.html) to find $\\text{cos}(\\theta)$:\n",
    "\n",
    "\\begin{equation*}   \n",
    "\\begin{split}\n",
    "\\text{cos}(\\theta) &= \\frac{u \\cdot v}{\\lVert u \\rVert \\lVert v \\rVert} \n",
    "= \\frac{u^T v}{\\sqrt{u^T u}\\sqrt{v^T v}} \\\\\n",
    "&= \\frac{u_1v_1 + \\cdots + u_nv_n}{\\sqrt{u_1^2 + \\cdots + u_n^2}\\sqrt{v_1^2 + \\cdots + v_n^2}} \\\\\n",
    "&= \\frac{\\sum uv}{\\sqrt{\\sum u^2} \\sqrt{\\sum v^2}}\n",
    "= \\frac{\\sum (x - \\bar{x})(y - \\bar{y})}{\\sqrt{\\sum (x - \\bar{x})^2} \\sqrt{\\sum (y - \\bar{y})^2}} = R\n",
    "\\end{split}\n",
    "\\label{eq:7} \\tag{7}\n",
    "\\end{equation*} \n",
    "\n",
    "#### Example\n",
    "\n",
    "*Running an OLS regression of $y$ ~ $x_1$ gives $R_1^2 = 0.3$. Running an OLS regression of $y$ ~ $x_2$ gives $R_2^2 = 0.4$. Find $R^2$ for $y$ ~ $x_1 + x_2$.* \n",
    "\n",
    "$R_1^2 \\neq R_2^2$, which means $x_1 \\neq x_2$. We don't know anything else about $x_1$ and $x_2$, so we'll need to express $R^2$ as a range of values. The maximum bound for $R^2$ is reached when $x_1$ and $x_2$ are orthogonal, or uncorrelated. In this case, $R^2$ is at most equal to $1$. This is easy to explain with geometry. \n",
    "\n",
    "<img src=\"Images/geometric_ols.jpg\" alt=\"img1\" width=\"300\"/>\n",
    "\n",
    "$R$ is the cosine of the angle $\\theta$ between vectors $y$ and $x_1 + x_2$. At best, $\\theta=0$ and $y$ exists in the column space of $x$, which means $y$ can be written as a function of $x_1 + x_2$ and $R^2 = 1$. Alternatively, the minimum bound for $R^2$ is reached when $x_2$ contains all the information of $x_1$. In this case, $R^2 = R_2^2 = 0.4$. Therefore, $0.4 \\leq R^2 \\leq 1$. \n",
    "\n",
    "This result is simulated below using the following equation for $R^2$, written in terms of correlation coefficients:\n",
    "\n",
    "\\begin{equation*}   \n",
    "\\text{R}^2 = \\frac{r_{y,x_1}^2 + r_{y,x_2}^2 - 2 r_{y,x_1}r_{y,x_2}r_{x_1,x_2}}{1 - r_{x_1,x_2}^2}\n",
    "\\label{eq:8} \\tag{8}\n",
    "\\end{equation*} "
   ]
  },
  {
   "cell_type": "code",
   "execution_count": 35,
   "metadata": {
    "scrolled": true
   },
   "outputs": [
    {
     "data": {
      "image/png": "[encoded data removed]",
      "text/plain": [
       "<Figure size 432x288 with 1 Axes>"
      ]
     },
     "metadata": {
      "needs_background": "light"
     },
     "output_type": "display_data"
    }
   ],
   "source": [
    "import matplotlib.pyplot as plt\n",
    "import numpy as np\n",
    "\n",
    "r2_y1, r2_y2 = 0.3, 0.4\n",
    "r2_12 = np.array(range(100))/100\n",
    "y = (r2_y1 + r2_y2 - 2*(r2_y1**0.5)*(r2_y2**0.5)*(r2_12**0.5))/(1-r2_12)\n",
    "\n",
    "plt.plot(x,y)\n",
    "plt.ylabel('$R^2$')\n",
    "plt.xlabel('$r_{x_1,x_2}^2$')\n",
    "plt.show()"
   ]
  },
  {
   "cell_type": "markdown",
   "metadata": {},
   "source": [
    "## Regression Analysis\n",
    "\n",
    "### Coefficients\n",
    "\n",
    "Coefficients describe the relationship between each independent variable and the dependent variable. The first coefficient without an input is called the **intercept**. Think of it as the base case of your model. The intercept adjusts what the model predicts when all your inputs are 0. \n",
    "\n",
    "The remaining coefficients are the **regression coefficients**. They give the slope of the line of best fit. The sign of a regression coefficient tells you whether there is a positive or negative correlation between each independent variable and the dependent variable. A positive coefficient indicates that the mean of the dependent variable will increase as the value of the independent variable increases. A negative coefficient indicates that the dependent variable will decrease as the independent variable increases.\n",
    "\n",
    "For a simple linear regression, the regression coefficient can be written in terms of the correlation coefficient and standard deviations of $x$ and $y$:\n",
    "\n",
    "\\begin{equation*}\n",
    "\\beta = r_{yx} \\frac{\\sigma_y}{\\sigma_x}\n",
    "\\label{eq:9} \\tag{9}\n",
    "\\end{equation*}  \n",
    "\n",
    "This can be derived geometrically. Imagine two vectors $y$ and $x$ with an angle $\\theta$ between them. The length of each vector is their respective standard deviation and $\\text{cos}(\\theta)$ is the correlation between $y$ and $x$. We know that the projection of $y$ onto $x$ gives us $\\hat{y} = \\beta x = y \\text{cos}(\\theta)$ which we can rewrite as $\\beta \\sigma_x = \\sigma_y r_{yx} \\Rightarrow \\beta = r_{yx} \\frac{\\sigma_y}{\\sigma_x}$.   \n",
    "\n",
    "A regression with two independent variables, the regression coefficients $\\beta_1$ and $\\beta_2$ are calculated as follows:\n",
    "\n",
    "\\begin{equation*}\n",
    "\\begin{split}\n",
    "\\beta_1 &= \\frac{\\sum x_2^2 \\sum x_1 y - \\sum x_1 x_2 \\sum x_2 y}{\\sum x_1^2 \\sum x_2^2 - \\sum x_1 x_2} \\\\\n",
    "\\beta_2 &= \\frac{\\sum x_1^2 \\sum x_2 y - \\sum x_1 x_2 \\sum x_1 y}{\\sum x_1^2 \\sum x_2^2 - \\sum x_1 x_2}\n",
    "\\end{split}\n",
    "\\label{eq:10} \\tag{10}\n",
    "\\end{equation*}   \n",
    "\n",
    "We can also find $R^2$ using these regression coefficients:\n",
    "\n",
    "\\begin{equation*}\n",
    "\\text{R}^2 = \\beta_1 r_{y,x_1} + \\beta_2 r_{y,x_2}\n",
    "\\label{eq:11} \\tag{11}\n",
    "\\end{equation*}  \n",
    "\n",
    "### Statistical Testing\n",
    "\n",
    "See [here](http://mathcenter.oxford.emory.edu/site/math117/hypothesisTestsProportionsOneSample/) for an in-depth explanation (with an example) of hypothesis testing, standard errors, t-statistics, p-values, and the empirical rule. To summarize, let's say we have the following null and alternate hypothesis:\n",
    "\n",
    "\\begin{equation*}   \n",
    "\\text{H}_0: p = 0.5, \\text{H}_1: p \\neq 0.5 \n",
    "\\end{equation*} \n",
    "\n",
    "The following can be used to find the **standard error**:\n",
    "\n",
    "\\begin{equation*}   \n",
    "\\text{SE} = \\frac{\\sigma}{\\sqrt{n}} = \\sqrt{\\frac{p(1-p)}{n}}\n",
    "\\label{eq:12} \\tag{12}\n",
    "\\end{equation*} \n",
    "\n",
    "where $\\sigma$ is the sample standard deviation of a binomial distribution and $n$ is the sample size. From here, we can calculate the **t-statistic**, or the z-score of the sample distribution:\n",
    "\n",
    "\\begin{equation*}   \n",
    "t = \\frac{x - \\mu}{\\text{SE}}\n",
    "\\label{eq:13} \\tag{13}\n",
    "\\end{equation*} \n",
    "\n",
    "where $x$ is the observed $p$ and $\\mu = p$ for a normal distribution. You can use this $t$ to find the p-value, or the probability that $X$ falls after $t$. If the p-value is less than the significance level, $\\alpha$, we reject the null hypothesis. You can also calculate $t$ in terms of the correlation coefficient:\n",
    "\n",
    "\\begin{equation*}   \n",
    "t = r \\cdot \\frac{n-2}{1-r^2}\n",
    "\\label{eq:14} \\tag{14}\n",
    "\\end{equation*} \n",
    "\n",
    "Instead of p-values, the **empirical rule** can be used to assess the null hypothesis. The rule states that 68.3% of the probability distribution falls within one standard deviation of the mean, 95.5% within two, and 99.7% within three. For example, if $t = 2.2$ and $\\alpha = 0.05$, I can discount at least 95.5% of my probability distribution--leaving only 4.5%. 0.045 is less than $\\alpha$, so I'd reject my null hypothesis. \n",
    "\n",
    "#### Example\n",
    "\n",
    "*A coin lands on heads 55% of the time after $n$ tosses. How big should $n$ be in order to determine that the coin is biased? Before calculating $n$, give an intuitive estimate.*\n",
    "\n",
    "First, how large would you guess $n$ is? It has to be really large since the observed sample probability of $0.55$ is very close to that of an unbiased coin. The more coin tosses we get, the more confident we'll be in our hypothesis. So, I would guess several hundred.   \n",
    "\n",
    "Let's now calculate $n$. Our null hypothesis is $H_0: p = 0.5$. Our standard error is then: \n",
    "\n",
    "\\begin{equation*}   \n",
    "\\text{SE} = \\sqrt{\\frac{p(1-p)}{n}} = \\frac{0.5}{\\sqrt{n}}\n",
    "\\end{equation*} \n",
    "\n",
    "which gives the following confidence interval:\n",
    "\n",
    "\\begin{equation*}   \n",
    "t = \\frac{x - p}{\\text{SE}} = \\frac{0.55 - 0.5}{\\frac{0.5}{\\sqrt{n}}} = 0.1\\sqrt{n}\n",
    "\\end{equation*} \n",
    "\n",
    "Using the empirical rule and the de facto significance level of $\\alpha = 0.05$, we can reject our null hypothesis if $t \\geq 2$ since only 4.5% (less than $\\alpha$) of our normal distribution falls outside of two standard deviations from the mean. So,\n",
    "\n",
    "\\begin{equation*}   \n",
    "\\begin{split}\n",
    "&0.1\\sqrt{n} = t \\geq 2 \\\\\n",
    "&\\Rightarrow n \\geq \\left( \\frac{2}{0.1} \\right)^2 = 400\n",
    "\\end{split}\n",
    "\\end{equation*} \n",
    "\n",
    "Therefore, assuming $\\alpha = 0.05$, $n$ has to be at least 400 in order to reject the null hypothesis.  \n",
    "\n",
    "### Effects of Input Changes\n",
    "\n",
    "The table below summarizes which of the above regression variables change once the input data changes for some predicted output $\\hat{Y} = \\beta_0 + \\beta_1 X_1 + \\beta_2 X_2 + \\cdots + \\beta_n X_n + \\epsilon$.\n",
    "\n",
    "Type of Change | Effect on Coefficients | Effect on T-Statistic | Effect on $R^2$\n",
    "--------------------------------------------|-----------------------------|---------------------------|---------------------------\n",
    "Swapping $X$ and $Y$ in a simple linear model |The slope of the regression line will be a rescaled version of the old one; $r_{xy} = r_{yx}$ since the correlation coefficient is symmetrical, so $\\beta_{yx} = r_{xy} \\frac{\\sigma_y}{\\sigma_x}$  and $\\beta_{xy} = r_{yx} \\frac{\\sigma_x}{\\sigma_y} = \\beta_{yx} \\frac{\\sigma_x^2}{\\sigma_y^2}$| None; the correlation coefficients are symmetrical | None; $R^2 = r_{xy}^2 = r_{yx}^2$\n",
    "Duplicating the covariates | None; Generally, mean and variance of the sample remain the same. Mathematically, $\\beta$ remains unchanged ([proof](https://stats.stackexchange.com/questions/216003/what-are-the-consequences-of-copying-a-data-set-for-ols)). | Increases; t-statistic is directly proportional to the sample size | None; regression coefficients and correlation coefficients remain the same\n",
    "Changing the sample size, $n$ | Coefficients aren't directly affected by the sample size, but they are affected by the sampling variation. Sampling variability decreases as the sample size increases. | Increases or decreases | Affected by the sampling variation\n",
    "Adding a new covariate, $X_i$ | All coefficients are jointly estimated, so a new variable will change the existing coefficients | Affected by the change in the joint variance of $Y$ | Increases; any new nonzero term will improve the fit and increase $R^2$\n",
    "Removing a covariate, $X_i$ |All coefficients are jointly estimated, so removing a variable will change the remaining coefficients| Affected by the change in the joint variance of $Y$ | Affected by the change in the regression coefficient and variance\n",
    "Changing units for a covariate, $X_i$ | Changes the unit of the corresponding coefficient, $\\beta_i$ | None | None"
   ]
  }
 ],
 "metadata": {
  "kernelspec": {
   "display_name": "Python 3",
   "language": "python",
   "name": "python3"
  },
  "language_info": {
   "codemirror_mode": {
    "name": "ipython",
    "version": 3
   },
   "file_extension": ".py",
   "mimetype": "text/x-python",
   "name": "python",
   "nbconvert_exporter": "python",
   "pygments_lexer": "ipython3",
   "version": "3.8.5"
  }
 },
 "nbformat": 4,
 "nbformat_minor": 4
}
