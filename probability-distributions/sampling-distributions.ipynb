{
 "cells": [
  {
   "cell_type": "markdown",
   "metadata": {},
   "source": [
    "# Sampling Distributions\n",
    "\n",
    "Sampling distributions are probability distributions of a statistic obtained from a large number of samples from a population.\n",
    "\n",
    "## Law of Large Numbers\n",
    "\n",
    "The law of large numbers states that if $n$ sample trials are taken of random variable $X$ with a population mean of $E[X]$, the mean of the observation of those samples $\\bar{X_n} \\rightarrow E[X]$ as $n \\rightarrow \\infty$. \n",
    "\n",
    "### Example\n",
    "\n",
    "Let $X$ be the number of tails counted after 100 tosses of a fair coin. $E[X] = 100 * \\frac{1}{2} = 50$, so we should expect the average number of tails after $n$ trials of 100 tosses to be about 50 as well. "
   ]
  },
  {
   "cell_type": "code",
   "execution_count": 5,
   "metadata": {},
   "outputs": [
    {
     "name": "stdout",
     "output_type": "stream",
     "text": [
      "51.4\n"
     ]
    }
   ],
   "source": [
    "from random import randint\n",
    "\n",
    "def get_avg_tails(n, tosses):\n",
    "    avg_tails = 0\n",
    "    for _ in range(n):\n",
    "        for _ in range(tosses):\n",
    "            if randint(0,1): \n",
    "                avg_tails += 1/n\n",
    "    return round(avg_tails,1)\n",
    "\n",
    "print(get_avg_tails(10, 100))"
   ]
  },
  {
   "cell_type": "markdown",
   "metadata": {},
   "source": [
    "## The Central Limit Theorem\n",
    "\n",
    "The Central Limit Theorem states that the mean values of samples taken from a dataset--no matter its distribution--will be normally distributed. The means will follow $N$ ~ $(\\mu_0, \\frac{\\sigma_0^2}{n})$, where $n$ is the number of samples. The more samples taken from the original dataset and the larger the size of each sample is, the more normally distributed the means will be. \n",
    "\n",
    "### Example\n",
    "\n",
    "Let's test this out on 1000 random numbers with values ranging from 1 to 100:"
   ]
  },
  {
   "cell_type": "code",
   "execution_count": 2,
   "metadata": {},
   "outputs": [
    {
     "name": "stdout",
     "output_type": "stream",
     "text": [
      "Mean =  51.696\n",
      "Variance =  840.478062062062\n"
     ]
    },
    {
     "data": {
      "image/png": "[encoded data removed]",
      "text/plain": [
       "<Figure size 432x288 with 1 Axes>"
      ]
     },
     "metadata": {
      "needs_background": "light"
     },
     "output_type": "display_data"
    }
   ],
   "source": [
    "import matplotlib.pyplot as plt\n",
    "import random\n",
    "from statistics import mean, variance\n",
    "%matplotlib inline\n",
    "\n",
    "x = [random.randint(1, 100) for _ in range(0, 1000)]\n",
    "\n",
    "print(\"Mean = \", mean(x))\n",
    "print(\"Variance = \", variance(x))\n",
    "\n",
    "plt.hist(x, bins=50)\n",
    "plt.gca().set(ylabel='Frequency');"
   ]
  },
  {
   "cell_type": "markdown",
   "metadata": {},
   "source": [
    "Now let's collect 50 random samples from the dataset, each with a size of 25, and plot their mean values:"
   ]
  },
  {
   "cell_type": "code",
   "execution_count": 3,
   "metadata": {},
   "outputs": [
    {
     "name": "stdout",
     "output_type": "stream",
     "text": [
      "Mean =  50.9384\n",
      "Variance =  30.736993306122454\n"
     ]
    },
    {
     "data": {
      "image/png": "[encoded data removed]",
      "text/plain": [
       "<Figure size 432x288 with 1 Axes>"
      ]
     },
     "metadata": {
      "needs_background": "light"
     },
     "output_type": "display_data"
    }
   ],
   "source": [
    "samples = [mean(random.sample(x, 25)) for _ in range(0, 50)]\n",
    "\n",
    "print(\"Mean = \", mean(samples))\n",
    "print(\"Variance = \", variance(samples))\n",
    "\n",
    "plt.hist(samples, bins=50)\n",
    "plt.gca().set(ylabel='Frequency');"
   ]
  },
  {
   "cell_type": "markdown",
   "metadata": {},
   "source": [
    "The mean values look to be normally distributed. Also, the resulting mean and variance of this dataset are pretty close to expected."
   ]
  }
 ],
 "metadata": {
  "kernelspec": {
   "display_name": "Python 3",
   "language": "python",
   "name": "python3"
  },
  "language_info": {
   "codemirror_mode": {
    "name": "ipython",
    "version": 3
   },
   "file_extension": ".py",
   "mimetype": "text/x-python",
   "name": "python",
   "nbconvert_exporter": "python",
   "pygments_lexer": "ipython3",
   "version": "3.8.5"
  }
 },
 "nbformat": 4,
 "nbformat_minor": 4
}
