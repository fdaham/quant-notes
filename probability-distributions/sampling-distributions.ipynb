{
 "cells": [
  {
   "cell_type": "markdown",
   "metadata": {},
   "source": [
    "# Sampling Distributions\n",
    "\n",
    "Sampling distributions are probability distributions of a statistic obtained from population samples.\n",
    "\n",
    "## The Law of Large Numbers\n",
    "\n",
    "The law of large numbers states that if $n$ sample trials are taken of random variable $X$ with a population mean of $E[X]$, the mean of the observation of those samples $\\bar{X_n} \\rightarrow E[X]$ as $n \\rightarrow \\infty$. \n",
    "\n",
    "### Example\n",
    "\n",
    "Let $X$ be the number of tails counted after 100 tosses of a fair coin. $E[X] = 100 * \\frac{1}{2} = 50$, so we should expect the average number of tails after $n$ trials of 100 tosses to be about 50 as well. "
   ]
  },
  {
   "cell_type": "code",
   "execution_count": 5,
   "metadata": {},
   "outputs": [
    {
     "name": "stdout",
     "output_type": "stream",
     "text": [
      "51.4\n"
     ]
    }
   ],
   "source": [
    "from random import randint\n",
    "\n",
    "def get_avg_tails(n, tosses):\n",
    "    avg_tails = 0\n",
    "    for _ in range(n):\n",
    "        for _ in range(tosses):\n",
    "            if randint(0,1): \n",
    "                avg_tails += 1/n\n",
    "    return round(avg_tails,1)\n",
    "\n",
    "print(get_avg_tails(10, 100))"
   ]
  },
  {
   "cell_type": "markdown",
   "metadata": {},
   "source": [
    "## The Central Limit Theorem\n",
    "\n",
    "The Central Limit Theorem states that the mean values of samples taken from a dataset--no matter its distribution--will be normally distributed. The means will follow $N$ ~ $(\\mu_0, \\frac{\\sigma_0^2}{n})$, where $n$ is the number of samples. The more samples taken from the original dataset and the larger the size of each sample, the more normally distributed the means will be. \n",
    "\n",
    "### Example\n",
    "\n",
    "Let's test this out on 1000 random numbers with values ranging from 1 to 100:"
   ]
  },
  {
   "cell_type": "code",
   "execution_count": 10,
   "metadata": {},
   "outputs": [
    {
     "name": "stdout",
     "output_type": "stream",
     "text": [
      "Mean = 50.708\n",
      "Variance = 827.4261621621622\n"
     ]
    },
    {
     "data": {
      "image/png": "[encoded data removed]",
      "text/plain": [
       "<Figure size 432x288 with 1 Axes>"
      ]
     },
     "metadata": {
      "needs_background": "light"
     },
     "output_type": "display_data"
    }
   ],
   "source": [
    "import matplotlib.pyplot as plt\n",
    "import random\n",
    "from statistics import mean, variance\n",
    "%matplotlib inline\n",
    "\n",
    "x = [random.randint(1, 100) for _ in range(0, 1000)]\n",
    "\n",
    "print(\"Mean =\", mean(x))\n",
    "print(\"Variance =\", variance(x))\n",
    "\n",
    "plt.hist(x, bins=50)\n",
    "plt.gca().set(ylabel='Frequency');"
   ]
  },
  {
   "cell_type": "markdown",
   "metadata": {},
   "source": [
    "Now let's collect 50 random samples from the dataset, each with a size of 25, and plot their mean values:"
   ]
  },
  {
   "cell_type": "code",
   "execution_count": 3,
   "metadata": {},
   "outputs": [
    {
     "name": "stdout",
     "output_type": "stream",
     "text": [
      "Mean =  50.9384\n",
      "Variance =  30.736993306122454\n"
     ]
    },
    {
     "data": {
      "image/png": "[encoded data removed]",
      "text/plain": [
       "<Figure size 432x288 with 1 Axes>"
      ]
     },
     "metadata": {
      "needs_background": "light"
     },
     "output_type": "display_data"
    }
   ],
   "source": [
    "samples = [mean(random.sample(x, 25)) for _ in range(0, 50)]\n",
    "\n",
    "print(\"Mean =\", mean(samples))\n",
    "print(\"Variance =\", variance(samples))\n",
    "\n",
    "plt.hist(samples, bins=50)\n",
    "plt.gca().set(ylabel='Frequency');"
   ]
  },
  {
   "cell_type": "markdown",
   "metadata": {},
   "source": [
    "The means look to be normally distributed. Also, the resulting mean and variance of this dataset are pretty close to expected.\n",
    "\n",
    "## Maximum Likelihood Estimation\n",
    "\n",
    "Maximum likelihood estimation (MLE) is a method that estimates the parameters of a probability distribution by maximizing a likelihood function. Its goal is optimally fit distributions to data.\n",
    "\n",
    "### Example\n",
    "\n",
    "*The German tank problem (also a true story from WWII): A German factory serializes tanks with distinct numbers from 1 to $n$, where $n$ is the total number of tanks manufactured. After the war, Allied intelligence gathers the serial numbers of $k$ captured German tanks, where $0 \\leq k \\leq n$. How can they estimate $n$?*\n",
    "\n",
    "We can use MLE to estimate $n$ by taking the maximum serial number found among the $k$ captured German tanks; $M = \\text{max}( X_1, X_2, \\cdots, X_k)$. Let's simulate this 1000 times with $n = 1000$ and $k=50$:"
   ]
  },
  {
   "cell_type": "code",
   "execution_count": 37,
   "metadata": {},
   "outputs": [
    {
     "name": "stdout",
     "output_type": "stream",
     "text": [
      "Mean = 980.82\n",
      "Variance = 354.62359999999995\n"
     ]
    },
    {
     "data": {
      "image/png": "[encoded data removed]",
      "text/plain": [
       "<Figure size 432x288 with 1 Axes>"
      ]
     },
     "metadata": {
      "needs_background": "light"
     },
     "output_type": "display_data"
    }
   ],
   "source": [
    "import matplotlib.pyplot as plt\n",
    "import numpy as np\n",
    "\n",
    "def simulate_captured_tanks(n_sims, n, k):\n",
    "    serial_nums = np.arange(1, n + 1)\n",
    "    return [np.random.choice(serial_nums, k, replace=False) for _ in range(n_sims)] \n",
    "\n",
    "def plot_and_print(estimator):\n",
    "    avg = np.mean(estimator)\n",
    "    var = np.var(estimator)\n",
    "    \n",
    "    plt.hist(estimator)\n",
    "    plt.axvline(x=avg, color='r', linestyle='--')\n",
    "    plt.gca().set(ylabel='Frequency');\n",
    "    plt.gca().set(xlabel='Max Serial Numbers');\n",
    "    \n",
    "    print(\"Mean =\", avg)\n",
    "    print(\"Variance =\", var)\n",
    "\n",
    "n, k = 1000, 50\n",
    "sims = simulate_captured_tanks(1000, n, k)\n",
    "mle = [max(sim) for sim in sims]\n",
    "plot_and_print(mle)"
   ]
  },
  {
   "cell_type": "markdown",
   "metadata": {},
   "source": [
    "Not a bad guess. However, this estimator is obviously biased since its outcome will always be less than or equal to $n$--which means we'll always be underestimating $n$. To improve this, notice how the mean $\\rightarrow n$ as $k \\rightarrow n$. This tells us that the spacing between ordered captured tank serial numbers is significant to estimating $n$. \n",
    "\n",
    "To make our estimator less biased, we can add the average spacing between ordered captured tanks to the MLE above. This is called the minimum variance unbiased estimator (MVUE). Due to the symmetry of random sampling, those gaps have the same expected length since they follow the same distribution. In each simulation, we have $k$ serial numbers ranging from 1 to $M$. Therefore, the average expected length of each gap is $\\frac{M-k}{k}$."
   ]
  },
  {
   "cell_type": "code",
   "execution_count": 38,
   "metadata": {},
   "outputs": [
    {
     "name": "stdout",
     "output_type": "stream",
     "text": [
      "Mean = 999.4363999999999\n",
      "Variance = 368.9503934400001\n"
     ]
    },
    {
     "data": {
      "image/png": "[encoded data removed]",
      "text/plain": [
       "<Figure size 432x288 with 1 Axes>"
      ]
     },
     "metadata": {
      "needs_background": "light"
     },
     "output_type": "display_data"
    }
   ],
   "source": [
    "def mvue(sim):\n",
    "    m = max(sim)\n",
    "    gap = (m - k) / k\n",
    "    return m + gap\n",
    "\n",
    "mvue = [mvue(sim) for sim in sims]\n",
    "plot_and_print(mvue)"
   ]
  },
  {
   "cell_type": "markdown",
   "metadata": {},
   "source": [
    "The mean of the sample distribution is now exactly $n$, which proves how unbiased the second estimator is. However, notice that with less bias comes more variability (compare the variance of MVUE with MLE).\n",
    "\n",
    "## Resampling Techniques\n",
    "\n",
    "* **Bootstrapping** - A resampling method where small $n$-sized samples (with replacement) are repeatedly drawn a large number of times from a dataset. \n",
    "* **Normal resampling** - A special case of bootstrapping where sampling is done from a normal distribution.\n",
    "* **Permutation resampling** - A sampling technique where labels on observed data points are rearranged. This is a resampling method without replacement that can be used for statistical significance tests. Used when dealing with an unknown distribution. \n",
    "* **Cross Validation** - When a subset of data is taken as the validation set (the rest is left for training). Used to validate a predictive model."
   ]
  },
  {
   "cell_type": "code",
   "execution_count": null,
   "metadata": {},
   "outputs": [],
   "source": []
  }
 ],
 "metadata": {
  "kernelspec": {
   "display_name": "Python 3",
   "language": "python",
   "name": "python3"
  },
  "language_info": {
   "codemirror_mode": {
    "name": "ipython",
    "version": 3
   },
   "file_extension": ".py",
   "mimetype": "text/x-python",
   "name": "python",
   "nbconvert_exporter": "python",
   "pygments_lexer": "ipython3",
   "version": "3.8.5"
  }
 },
 "nbformat": 4,
 "nbformat_minor": 4
}
