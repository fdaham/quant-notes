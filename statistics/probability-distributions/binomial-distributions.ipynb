{
 "cells": [
  {
   "cell_type": "markdown",
   "metadata": {},
   "source": [
    "# Binomial Distributions\n",
    "\n",
    "A binomial distribution is used when there are exactly two mutually exclusive outcomes of a trial. It counts the number of successes $k$ achieved in $n$ trials with a probability of success $p$. The PMF of a binomial distributed discrete random variable $X$ is:\n",
    "\n",
    "\\begin{equation*}\n",
    "P(x) = {n \\choose x} p^x (1-p)^{n-x}\n",
    "\\label{eq:1} \\tag{1}\n",
    "\\end{equation*}\n",
    "\n",
    "where $0 \\leq x\\leq n$, $E[X] = np$, and $\\text{var}(x) = np(1-p)$. \n",
    "\n",
    "# Negative Binomial Distributions\n",
    "\n",
    "A negative binomial distribution counts the number of successes $k$ until $r$ failures are reached (as opposed to a binomial distribution, which waits for exactly $n$ trials). A geometric distribution is a special case of the negative binomial distribution; experiments are stopped at the first failure (i.e. $r = 1$). \n",
    "\n",
    "The PMF of a negative binomial distributed discrete random variable $X$ is:\n",
    "\n",
    "\\begin{equation*}\n",
    "P(x) = {x-1 \\choose r-1} p^r (1-p)^{x-r}\n",
    "\\label{eq:2} \\tag{2}\n",
    "\\end{equation*}\n",
    "\n",
    "where $r \\leq x \\leq n$, $E[X]=\\frac{r}{p}$, and $\\text{var}(X) = \\frac{r(1-p)}{p^2}$."
   ]
  }
 ],
 "metadata": {
  "kernelspec": {
   "display_name": "Python 3",
   "language": "python",
   "name": "python3"
  },
  "language_info": {
   "codemirror_mode": {
    "name": "ipython",
    "version": 3
   },
   "file_extension": ".py",
   "mimetype": "text/x-python",
   "name": "python",
   "nbconvert_exporter": "python",
   "pygments_lexer": "ipython3",
   "version": "3.8.5"
  }
 },
 "nbformat": 4,
 "nbformat_minor": 4
}
