{
 "cells": [
  {
   "cell_type": "markdown",
   "metadata": {},
   "source": [
    "# Binomial Distributions\n",
    "\n",
    "Binomial distributions are the discrete counterparts of continuous normal distributions. They're used when there are exactly two mutually exclusive outcomes of a trial. A binomial distribution will count the number of successes $k$ achieved in $n$ trials (also referred to as Bernoulli trials) with a probability of success $p$. \n",
    "\n",
    "The PMF of a binomial distributed discrete random variable $X$ is:\n",
    "\n",
    "\\begin{equation*}\n",
    "P(x) = {n \\choose x} p^x (1-p)^{n-x}\n",
    "\\label{eq:1} \\tag{1}\n",
    "\\end{equation*}\n",
    "\n",
    "where $0 \\leq x\\leq n$.\n",
    "\n",
    "## Mean and Variance\n",
    "\n",
    "The expected value of a binomially distributed random variable $X$ is:\n",
    "\n",
    "\\begin{equation*}\n",
    "E[X] = np\n",
    "\\label{eq:2} \\tag{2}\n",
    "\\end{equation*}\n",
    " \n",
    "This can be proven using the linearity of expectation since $X$ is the sum of $n$ identical Bernoulli random variables:\n",
    "\n",
    "\\begin{equation*}\n",
    "\\begin{split}\n",
    "E[X] &= E[X_1 + X_2 + \\cdots + X_n] \\\\\n",
    "&= E[X_1] + E[X_2] + \\cdots + E[X_n] \\\\\n",
    "&= p + p + \\cdots + p = \\boxed{np}\n",
    "\\end{split}\n",
    "\\label{eq:3} \\tag{3}\n",
    "\\end{equation*}\n",
    "\n",
    "The variance of $X$ is:\n",
    "\n",
    "\\begin{equation*}\n",
    "\\text{var}(x) = E[X^2] - E[X]^2 = np(1-p)\n",
    "\\label{eq:4} \\tag{4}\n",
    "\\end{equation*}\n",
    "\n",
    "# Negative Binomial Distributions\n",
    "\n",
    "A negative binomial distribution counts the number of successes $k$ until $r$ failures are reached (as opposed to a binomial distribution, which waits for exactly $n$ trials). A geometric distribution is a special case of the negative binomial distribution; experiments are stopped at the first failure (i.e. $r = 1$). \n",
    "\n",
    "The PMF of a negative binomial distributed discrete random variable $X$ is:\n",
    "\n",
    "\\begin{equation*}\n",
    "P(x) = {x-1 \\choose r-1} p^r (1-p)^{x-r}\n",
    "\\label{eq:5} \\tag{5}\n",
    "\\end{equation*}\n",
    "\n",
    "where $r \\leq x \\leq n$, $E[X]=\\frac{r}{p}$, and $\\text{var}(X) = \\frac{r(1-p)}{p^2}$."
   ]
  }
 ],
 "metadata": {
  "kernelspec": {
   "display_name": "Python 3",
   "language": "python",
   "name": "python3"
  },
  "language_info": {
   "codemirror_mode": {
    "name": "ipython",
    "version": 3
   },
   "file_extension": ".py",
   "mimetype": "text/x-python",
   "name": "python",
   "nbconvert_exporter": "python",
   "pygments_lexer": "ipython3",
   "version": "3.8.5"
  }
 },
 "nbformat": 4,
 "nbformat_minor": 4
}
