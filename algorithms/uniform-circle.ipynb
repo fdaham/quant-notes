{
 "cells": [
  {
   "cell_type": "markdown",
   "metadata": {},
   "source": [
    "# Uniformly Distributed Points on a Circle\n",
    "\n",
    "*Randomly generate points on the circumference of a circle, then calculate the variance of its distribution.* \n",
    "\n",
    "### Proof\n",
    "\n",
    "Suppose we have the following uniform distribution $X$ with a radius of $r = 1$:\n",
    "\n",
    "\\begin{equation*}\n",
    "X = \\left(X_1 = \\frac{X_1}{\\sqrt{X_1^2 + X_2^2}}, X_2 = \\frac{X_2}{\\sqrt{X_1^2 + X_2^2}} \\right)\n",
    "\\end{equation*}\n",
    "\n",
    "where $X_i$ are iid and follow a standard normal distribution. We're looking for $\\text{var}(X) = E[X^2] - E[X]^2$. Since $X_i$ follows a uniform distribution, we know that $E[X] = 0$. Therefore, $\\text{var}(X) = E[X^2]$. To solve for $E[X^2]$, notice that:\n",
    "\n",
    "\\begin{equation*}\n",
    "X^2 = \\frac{X_1^2}{X_1^2 + X_2^2} + \\frac{X_2^2}{X_1^2 + X_2^2} = 1 = r^2\n",
    "\\end{equation*}\n",
    "\n",
    "Taking the expected value of both sides, we have $E[X^2] = E[r^2]$. To solve for $E[r^2]$, we first need the PDF of $r$. The area of a circle ($A(r) = \\pi r^2$) is proportional to $r$. So, it's PDF $p(r)$ (the circumference of a circle) is the derivative of that proportionality:\n",
    "\n",
    "\\begin{equation*}\n",
    "p(r) = \\frac{dA(r)}{dr} \\propto 2 \\pi r\n",
    "\\end{equation*}\n",
    "\n",
    "We can solve for the proportionality constant $k$ by integrating $\\int_{0}^{1} k p(r)dr = 1$:\n",
    "\n",
    "\\begin{equation*}\n",
    "\\begin{split}\n",
    "\\int_{0}^{1} k p(r)dr &= k \\pi r^2 \\biggr]_0^1 = k \\pi = 1 \\\\\n",
    "\\Rightarrow k = \\frac{1}{\\pi}\n",
    "\\end{split}\n",
    "\\end{equation*}\n",
    "\n",
    "Which means $p(r) = \\frac{1}{\\pi}(2 \\pi r) = 2r$. Now, we can solve for $E[r^2]$:\n",
    "\n",
    "\\begin{equation*}\n",
    "\\begin{split}\n",
    "E[r^2] = \\int_{0}^{1}  r^2 2r dr = \\frac{1}{2}\n",
    "\\end{split}\n",
    "\\end{equation*}\n",
    "\n",
    "Therefore,\n",
    "\n",
    "\\begin{equation*}\n",
    "\\begin{split}\n",
    "\\boxed{\\text{var}(X) = E[X^2] = E[r^2] = \\frac{1}{2}}\n",
    "\\end{split}\n",
    "\\end{equation*}\n",
    "\n",
    "### Simulation\n",
    "\n",
    "We relate polar and cartesian coordinates with $x = r \\text{cos}(\\theta)$ and $y = r \\text{sin}(\\theta)$. To generate random points $(x, y)$, $\\theta$ is multiplied by a random number in the range [0,1]. "
   ]
  },
  {
   "cell_type": "code",
   "execution_count": 1,
   "metadata": {},
   "outputs": [
    {
     "name": "stdout",
     "output_type": "stream",
     "text": [
      "var(x) = 0.49217213759951256\n"
     ]
    },
    {
     "data": {
      "image/png": "[encoded data removed]",
      "text/plain": [
       "<Figure size 432x288 with 1 Axes>"
      ]
     },
     "metadata": {
      "needs_background": "light"
     },
     "output_type": "display_data"
    }
   ],
   "source": [
    "import matplotlib.pyplot as plt\n",
    "from math import pi, cos, sin\n",
    "from random import random\n",
    "from statistics import variance\n",
    "\n",
    "def get_points_on_circle(n, r):\n",
    "    xy = []\n",
    "    for _ in range(n):\n",
    "        theta = random() * 2 * pi\n",
    "        xy.append([r * cos(theta), r * sin(theta)])\n",
    "    return xy\n",
    "\n",
    "# Calculate var(x)\n",
    "xy = get_points_on_circle(1000, 1)\n",
    "x = [pair[0] for pair in xy]\n",
    "print(\"var(x) =\", variance(x))\n",
    "\n",
    "# Plot (x,y)\n",
    "plt.scatter(*zip(*xy))\n",
    "plt.show()"
   ]
  }
 ],
 "metadata": {
  "kernelspec": {
   "display_name": "Python 3",
   "language": "python",
   "name": "python3"
  },
  "language_info": {
   "codemirror_mode": {
    "name": "ipython",
    "version": 3
   },
   "file_extension": ".py",
   "mimetype": "text/x-python",
   "name": "python",
   "nbconvert_exporter": "python",
   "pygments_lexer": "ipython3",
   "version": "3.8.5"
  }
 },
 "nbformat": 4,
 "nbformat_minor": 4
}
