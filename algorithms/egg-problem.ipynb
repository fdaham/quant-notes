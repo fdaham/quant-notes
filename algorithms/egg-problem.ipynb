{
 "cells": [
  {
   "cell_type": "markdown",
   "metadata": {},
   "source": [
    "## The Egg Problem\n",
    "\n",
    "### The 2-Egg Problem\n",
    "\n",
    "*What is the minimum number of drops needed to find the lowest floor that an egg will break on when dropped from a 100-story building given 2 eggs?*\n",
    "\n",
    "Let $x$ be the lowest floor from which the egg will break and $n$ be the maximum number of drops required to find $x$. Our procedure for finding $x$ is:\n",
    "\n",
    "* Drop the first egg on floor $n$.\n",
    "* If the egg breaks on floor $n$, go to the ($n-1$)th floor and drop the second egg. \n",
    "* If the egg doesn't break on floor $n$, then go up $n-1$ floors and drop the second egg.\n",
    "* Repeat this process until we hit floor 100. There are $n-1$ drops remaining.\n",
    "\n",
    "Counting the total number of drops we have from this 100-story building, we get:\n",
    "\n",
    "\\begin{equation*}\n",
    "\\begin{split}\n",
    "&n + (n-1) + (n-2) + \\cdots + 1 = \\frac{n(n+1)}{2} = 100 \\\\\n",
    "&\\Rightarrow n^2 + n - 200 = 0 \\\\\n",
    "&\\Rightarrow n \\approx 14\n",
    "\\end{split}\n",
    "\\end{equation*}\n",
    "\n",
    "Therefore, the minimum number of drops required to find $x$ is 14. Specifically, we should start on floor $\\frac{13(13+1)}{2} = 91$.\n",
    "\n",
    "### The K-Egg Problem\n",
    "\n",
    "*([LeetCode #887](https://leetcode.com/problems/super-egg-drop/)) Same as above, but with $n$ floors and $k$ eggs.*\n",
    "\n",
    "The outcome of this problem is a sequence of $t$ successful/failed drops, where the maximum number of failed drops is $k$ (since we only have $k$ eggs to break). The total number of sequences of length $t$ with $k$ failed drops (i.e. the maximum number of floors we can drop the eggs from) is:\n",
    "\n",
    "\\begin{equation*}\n",
    "f(t,k) = \\sum_{0 \\leq i \\leq k} {t \\choose i}\n",
    "\\end{equation*}\n",
    "\n",
    "Instead of repeatedly summing ${t \\choose i}$, we can multiply the previous iteration by $\\frac{t-i}{i+1}$ since:\n",
    "\n",
    "\\begin{equation*}\n",
    "{n \\choose k} \\frac{n-k}{k+1} = \\frac{n!}{k!(n-k)!} \\frac{n-k}{k+1} = \\frac{n!}{(k+1)!(n-k-1)!} = {n \\choose k+1}\n",
    "\\end{equation*}\n",
    "\n",
    "However, solving for $f(t,k)$ is only half of the problem. The next half requires us to find the least $t$ such that $f(t,k) \\leq n$. Since $f(t,k)$ is an increasing function with respect to $t$, we can find $t$ using binary search."
   ]
  },
  {
   "cell_type": "code",
   "execution_count": 29,
   "metadata": {},
   "outputs": [],
   "source": [
    "def f(t, k, n):\n",
    "    total = 0\n",
    "    curr = 1 # {t \\choose 0} = 1\n",
    "    for i in range(1, k+1):\n",
    "        curr *= t - i + 1\n",
    "        curr //= i\n",
    "        total += curr\n",
    "        if total >= n:\n",
    "            break\n",
    "    return total\n",
    "\n",
    "def kEggDrop(k, n):\n",
    "    lo, hi = 1, n # 1 <= t <= n\n",
    "    while lo < hi:\n",
    "        mid = (lo + hi) // 2\n",
    "        if f(mid, k, n) < n:\n",
    "            lo = mid + 1\n",
    "        else:\n",
    "            hi = mid\n",
    "    return lo"
   ]
  }
 ],
 "metadata": {
  "kernelspec": {
   "display_name": "Python 3",
   "language": "python",
   "name": "python3"
  },
  "language_info": {
   "codemirror_mode": {
    "name": "ipython",
    "version": 3
   },
   "file_extension": ".py",
   "mimetype": "text/x-python",
   "name": "python",
   "nbconvert_exporter": "python",
   "pygments_lexer": "ipython3",
   "version": "3.8.5"
  }
 },
 "nbformat": 4,
 "nbformat_minor": 4
}
