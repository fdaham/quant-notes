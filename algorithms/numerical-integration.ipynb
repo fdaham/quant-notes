{
 "cells": [
  {
   "cell_type": "markdown",
   "metadata": {},
   "source": [
    "# Numerical Integration\n",
    "\n",
    "*Write an algorithm to integrate $f(x)$ from $[a, b]$.* \n",
    "\n",
    "Using the **numerical integration** midpoint rule, we have $\\int_{a}^{b} f(x)dx = \\sum_{i=1}^{n} f(m_i) \\Delta x$, where $m_i = a + (i + \\frac{1}{2})\\Delta x$ and $\\Delta x = \\frac{b-a}{n}$."
   ]
  },
  {
   "cell_type": "code",
   "execution_count": 1,
   "metadata": {},
   "outputs": [],
   "source": [
    "def integrate_numerically(a, b, n):\n",
    "    ans = 0\n",
    "    dx = (b-a)/n\n",
    "    for i in range(n):\n",
    "        ans += f(a + (i + 0.5)*dx)\n",
    "    return ans * dx"
   ]
  },
  {
   "cell_type": "markdown",
   "metadata": {},
   "source": [
    "Using **SciPy**:"
   ]
  },
  {
   "cell_type": "code",
   "execution_count": 2,
   "metadata": {},
   "outputs": [],
   "source": [
    "from scipy.integrate import quad\n",
    "\n",
    "def integrate_using_scipy(a, b):\n",
    "    return quad(f, a, b)[0]"
   ]
  }
 ],
 "metadata": {
  "kernelspec": {
   "display_name": "Python 3",
   "language": "python",
   "name": "python3"
  },
  "language_info": {
   "codemirror_mode": {
    "name": "ipython",
    "version": 3
   },
   "file_extension": ".py",
   "mimetype": "text/x-python",
   "name": "python",
   "nbconvert_exporter": "python",
   "pygments_lexer": "ipython3",
   "version": "3.8.5"
  }
 },
 "nbformat": 4,
 "nbformat_minor": 4
}
