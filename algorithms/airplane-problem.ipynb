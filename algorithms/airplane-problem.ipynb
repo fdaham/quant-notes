{
 "cells": [
  {
   "cell_type": "markdown",
   "metadata": {},
   "source": [
    "# The Airplane Problem\n",
    "\n",
    "*There are 100 seats on an airplane and 100 boarding passengers. The seats are assigned by boarding order. The first passenger doesn't have a boarding pass, so they randomly sit in a seat. If they take the seat of another passenger, the other passenger will have to also randomly sit in another seat. What's the probability of the last passenger being able to sit in their own seat?*\n",
    "\n",
    "In any case, the last passenger only has two options: seat #1 or seat #100. As soon as seat #1 is taken (either by the first passenger or any subsequent passenger who has to sit in a random seat), the chain of chaos ends and the last passenger is able to take seat #100. However, if seat #1 is never taken, the last passenger has to sit in it. Since both seats are equally likely to be taken, the probability of the last passenger being able to sit in their own seat is $\\frac{1}{2}$. This can be simulated using sampling. \n",
    "\n",
    "## Simulation\n",
    "\n",
    "The following algorithm follows the chain of chaos mentioned above. The first passenger, `p = 1`, randomly selects seat `r`. The passenger who had their seat taken, `p = r`, has to randomly select another seat. If their random seat number is the same as their current seat number (i.e. they're assigned the first passenger's seat), the chaos stops. Else, they're assigned someone else's seat and the chaos continues."
   ]
  },
  {
   "cell_type": "code",
   "execution_count": 3,
   "metadata": {},
   "outputs": [
    {
     "name": "stdout",
     "output_type": "stream",
     "text": [
      "0.505\n"
     ]
    }
   ],
   "source": [
    "from random import randint\n",
    "\n",
    "def simulate_boarding(n_passengers, n_simulations):\n",
    "    count = 0\n",
    "    for _ in range(n_simulations):\n",
    "        p = 1\n",
    "        while p < n_passengers:\n",
    "            r = randint(p, n_passengers)\n",
    "            if r == p:\n",
    "                count += 1\n",
    "                break\n",
    "            p = r \n",
    "    return count / n_simulations\n",
    "\n",
    "print(simulate_boarding(100, 1000))"
   ]
  }
 ],
 "metadata": {
  "kernelspec": {
   "display_name": "Python 3",
   "language": "python",
   "name": "python3"
  },
  "language_info": {
   "codemirror_mode": {
    "name": "ipython",
    "version": 3
   },
   "file_extension": ".py",
   "mimetype": "text/x-python",
   "name": "python",
   "nbconvert_exporter": "python",
   "pygments_lexer": "ipython3",
   "version": "3.8.5"
  }
 },
 "nbformat": 4,
 "nbformat_minor": 4
}
