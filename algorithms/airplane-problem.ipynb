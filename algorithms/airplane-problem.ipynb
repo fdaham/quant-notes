{
 "cells": [
  {
   "cell_type": "markdown",
   "metadata": {},
   "source": [
    "# The Airplane Problem\n",
    "\n",
    "*There are 100 seats on a airplane and 100 boarding passengers. The seats are assigned by boarding order. The first passenger doesn't have a boarding pass, so they randomly sit in a seat. If they take the seat of another passenger, the other passenger will have to also randomly sit in another seat. What's the probability that the last passenger gets to sit in their own seat?*\n",
    "\n",
    "This boils down to whether or not the first seat #1 is taken before seat #100. As soon as seat #1 is taken (either by the first passenger or any subsequent passenger), the chain of chaos ends and the last passenger is able to take their own seat. Since both events are equally likely to occur, the probability of the last passenger being able to pick their own seat is $\\frac{1}{2}$. This can be simulated using sampling. \n",
    "\n",
    "The following algorithm updates an array of assigned seats where the index of the array represents the boarding passenger and the corresponding value is the passenger who took their assigned seat. There's no need to assign seats to every passenger. Instead, if a passenger took another passenger's seat, skip over to that passenger and assign them their seat. "
   ]
  },
  {
   "cell_type": "code",
   "execution_count": 8,
   "metadata": {},
   "outputs": [
    {
     "name": "stdout",
     "output_type": "stream",
     "text": [
      "0.493\n"
     ]
    }
   ],
   "source": [
    "from random import randint\n",
    "\n",
    "def simulate_boarding(n_passengers, n_simulations):\n",
    "    count = 0\n",
    "    for _ in range(n_simulations):\n",
    "        seats = [i for i in range(1, n_passengers+1)]\n",
    "        p = 0\n",
    "        while p < n_passengers-1:\n",
    "            r = randint(p, n_passengers-1)\n",
    "            if seats[r] == 1:\n",
    "                count += 1\n",
    "                break\n",
    "            seats[r] = seats[p]\n",
    "            p = r \n",
    "    return count / n_simulations\n",
    "\n",
    "print(simulate_boarding(100, 1000))"
   ]
  }
 ],
 "metadata": {
  "kernelspec": {
   "display_name": "Python 3",
   "language": "python",
   "name": "python3"
  },
  "language_info": {
   "codemirror_mode": {
    "name": "ipython",
    "version": 3
   },
   "file_extension": ".py",
   "mimetype": "text/x-python",
   "name": "python",
   "nbconvert_exporter": "python",
   "pygments_lexer": "ipython3",
   "version": "3.8.5"
  }
 },
 "nbformat": 4,
 "nbformat_minor": 4
}
