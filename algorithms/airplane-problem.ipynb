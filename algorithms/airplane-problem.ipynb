{
 "cells": [
  {
   "cell_type": "markdown",
   "metadata": {},
   "source": [
    "# The Airplane Problem\n",
    "\n",
    "*There are 100 seats on a airplane and 100 boarding passengers. The seats are assigned by boarding order. The first passenger doesn't have a boarding pass, so they randomly sit in a seat. If they take the seat of another passenger, the other passenger will have to also randomly sit in another seat. What's the probability that the last passenger gets to sit in their own seat?*\n",
    "\n",
    "This boils down to whether or not seat #1 is taken before seat #100. Since both events are equally likely to occur, the probability of the last passenger being able to pick their own seat is $\\frac{1}{2}$. This can be simulated using Monte Carlo: "
   ]
  },
  {
   "cell_type": "code",
   "execution_count": 1,
   "metadata": {},
   "outputs": [
    {
     "name": "stdout",
     "output_type": "stream",
     "text": [
      "0.487\n"
     ]
    }
   ],
   "source": [
    "from random import randint\n",
    "\n",
    "def simulate_boarding(n_passengers, n_simulations):\n",
    "    n_success = 0\n",
    "    for _ in range(n_simulations):\n",
    "        seats = [i for i in range(1, n_passengers + 1)]\n",
    "        taken_seats = set()\n",
    "        n_open_seats = n_passengers - 1\n",
    "        for passenger in range(1, n_passengers):    \n",
    "            if passenger == 1 or passenger in taken_seats:\n",
    "                i = randint(0, n_open_seats)\n",
    "                if seats[i] == 1 or seats[i] == n_passengers:\n",
    "                    n_success += 1 * (seats[i] % n_passengers)\n",
    "                    break\n",
    "            else:\n",
    "                i = seats.index(passenger)\n",
    "            taken_seats.add(seats[i])\n",
    "            seats[i], seats[n_open_seats - 1] = seats[n_open_seats - 1], seats[i]\n",
    "            n_open_seats -= 1\n",
    "    return n_success / n_simulations\n",
    "\n",
    "print(simulate_boarding(100, 1000))"
   ]
  }
 ],
 "metadata": {
  "kernelspec": {
   "display_name": "Python 3",
   "language": "python",
   "name": "python3"
  },
  "language_info": {
   "codemirror_mode": {
    "name": "ipython",
    "version": 3
   },
   "file_extension": ".py",
   "mimetype": "text/x-python",
   "name": "python",
   "nbconvert_exporter": "python",
   "pygments_lexer": "ipython3",
   "version": "3.8.5"
  }
 },
 "nbformat": 4,
 "nbformat_minor": 4
}
