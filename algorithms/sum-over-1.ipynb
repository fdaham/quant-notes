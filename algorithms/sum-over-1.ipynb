{
 "cells": [
  {
   "cell_type": "markdown",
   "metadata": {},
   "source": [
    "# Sum Over 1\n",
    "\n",
    "*How many IID uniform random variables on [0,1] would you expect to draw until their sum is greater than 1?*\n",
    "\n",
    "Let $N$ be the expected number of draws needed to get the sum over 1. $N$ is a discrete random variable with values in the range $[2, \\infty)$. $N=2$ at the minimum since $N=1$ will never return a sum greater than 1. Therefore,\n",
    "\n",
    "\\begin{equation*}\n",
    "E[N] = \\sum_{n=2}^{\\infty} nP(N=n)\n",
    "\\end{equation*}\n",
    "\n",
    "We can figure out what $P(N=n)$ is by first finding $P(N=2)$ and $P(N=3)$. Let $X_i$ ~ $\\text{Uniform}(0,1)$, where $1 \\leq i \\leq N$. Then,\n",
    "\n",
    "\\begin{equation*}\n",
    "\\begin{split}\n",
    "P(N=2) &= P(N \\leq 2)\\\\\n",
    "&= P(X_1 + X_2 > 1) \\\\\n",
    "&= 1 - P(X_1 + X_2 \\leq 1) \\\\\n",
    "&= 1 - \\int_{0}^{1} \\int_{0}^{1-x_2} dx_1 dx_2 \\\\\n",
    "&= 1 - \\frac{1}{2} = \\frac{1}{2}\n",
    "\\end{split}\n",
    "\\end{equation*}\n",
    "\n",
    "Now, let's find $P(N=3) = P(X_1 + X_2 + X_3 > 1, X_1 + X_2 \\leq 1)$. Solving both inequalities simultaneously is a bit complicated, so we can use $P(N=3) = P(N \\leq 3) - P(N \\leq 2)$ instead. We already have $P(N \\leq 2)$ and can easily solve for $P(N \\leq 3)$:\n",
    "\n",
    "\\begin{equation*}\n",
    "\\begin{split}\n",
    "P(N \\leq 3) &= P(X_1 + X_2 + X_3 > 1) \\\\\n",
    "&= 1 - P(X_1 + X_2 + X_3 \\leq 1) \\\\\n",
    "&= 1 - \\int_{0}^{1} \\int_{0}^{1-x_3} \\int_{0}^{1-x_3-x_2} dx_1 dx_2 dx_3 \\\\\n",
    "&= 1 - \\frac{1}{2} \\left(\\frac{1}{3} \\right) = \\frac{5}{6}\n",
    "\\end{split}\n",
    "\\end{equation*}\n",
    "\n",
    "We're starting to see a pattern here; $P(N \\leq 2) = 1 - \\frac{1}{2}$ and $P(N \\leq 3) = 1 - \\frac{1}{2} \\left(\\frac{1}{3} \\right)$. So, we can generally say $P(N \\leq n) = 1 - \\frac{1}{n!}$ and use it to solve for $P(N = n)$:\n",
    "\n",
    "\\begin{equation*}\n",
    "\\begin{split}\n",
    "P(N = n) &= P(N \\leq n) - P(N \\leq n-1) \\\\\n",
    "&= \\left(1 - \\frac{1}{n!} \\right) - \\left( 1 - \\frac{1}{(n-1)!} \\right) \\\\\n",
    "&= \\frac{n-1}{n!}\n",
    "\\end{split}\n",
    "\\end{equation*}\n",
    "\n",
    "Plugging this back into $E[N]$, we have:\n",
    "\n",
    "\\begin{equation*}\n",
    "\\begin{split}\n",
    "E(N) &= \\sum_{n=2}^{\\infty} n P(N=n) \\\\\n",
    "&= \\sum_{n=2}^{\\infty} n \\left( \\frac{n-1}{n!} \\right) \\\\\n",
    "&= \\sum_{n=2}^{\\infty} \\frac{1}{(n-2)!} \\\\\n",
    "&= \\sum_{n=0}^{\\infty} \\frac{1}{n!} = e\n",
    "\\end{split}\n",
    "\\end{equation*}\n",
    "\n",
    "We can also simulate the result:"
   ]
  },
  {
   "cell_type": "code",
   "execution_count": 1,
   "metadata": {},
   "outputs": [
    {
     "data": {
      "text/plain": [
       "2.704"
      ]
     },
     "execution_count": 1,
     "metadata": {},
     "output_type": "execute_result"
    }
   ],
   "source": [
    "import random\n",
    "\n",
    "def simulate_n(n_simulations):\n",
    "    total_n = 0\n",
    "    for _ in range(n_simulations):\n",
    "        s = 0\n",
    "        while s <= 1:\n",
    "            s += random.uniform(0,1)\n",
    "            total_n += 1\n",
    "    return total_n / n_simulations\n",
    "\n",
    "simulate_n(1000)"
   ]
  }
 ],
 "metadata": {
  "kernelspec": {
   "display_name": "Python 3",
   "language": "python",
   "name": "python3"
  },
  "language_info": {
   "codemirror_mode": {
    "name": "ipython",
    "version": 3
   },
   "file_extension": ".py",
   "mimetype": "text/x-python",
   "name": "python",
   "nbconvert_exporter": "python",
   "pygments_lexer": "ipython3",
   "version": "3.8.5"
  }
 },
 "nbformat": 4,
 "nbformat_minor": 4
}
