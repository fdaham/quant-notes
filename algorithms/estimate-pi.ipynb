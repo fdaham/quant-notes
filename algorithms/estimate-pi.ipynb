{
 "cells": [
  {
   "cell_type": "markdown",
   "metadata": {},
   "source": [
    "# Estimate Pi\n",
    "\n",
    "*Use the Monte Carlo simulation to estimate pi.* \n",
    "\n",
    "Picture a unit circle inscribed in a unit square with the origin at its center, then generate $n$ random points $(x,y)$ where $x, y \\in [0,1]$. That way, all points lie within the square. A point $(x,y)$ is within the circle if $\\sqrt{x^2 + y^2} \\leq 1$. As $n$ increases, the following approximation becomes more exact: \n",
    "\n",
    "\\begin{equation*}\n",
    "\\begin{split}\n",
    "\\frac{n_{circle}}{n} \\approx \\frac{\\pi r^2}{(2r)^2} \\\\\n",
    "\\Rightarrow \\pi \\approx 4 \\frac{n_{circle}}{n}\n",
    "\\end{split}\n",
    "\\end{equation*}\n",
    "\n",
    "where $n_{circle}$ is the number of points found within the unit circle. "
   ]
  },
  {
   "cell_type": "code",
   "execution_count": 1,
   "metadata": {},
   "outputs": [
    {
     "name": "stdout",
     "output_type": "stream",
     "text": [
      "3.168\n"
     ]
    }
   ],
   "source": [
    "import random\n",
    "from math import sqrt\n",
    "\n",
    "def estimate_pi(n):\n",
    "    n_circle = 0\n",
    "    for _ in range(n):\n",
    "        x = random.uniform(0, 1)\n",
    "        y = random.uniform(0, 1)\n",
    "        if sqrt(x**2 + y**2) <= 1:\n",
    "            n_circle += 1\n",
    "    return 4 * n_circle / n\n",
    "\n",
    "print(estimate_pi(1000))"
   ]
  }
 ],
 "metadata": {
  "kernelspec": {
   "display_name": "Python 3",
   "language": "python",
   "name": "python3"
  },
  "language_info": {
   "codemirror_mode": {
    "name": "ipython",
    "version": 3
   },
   "file_extension": ".py",
   "mimetype": "text/x-python",
   "name": "python",
   "nbconvert_exporter": "python",
   "pygments_lexer": "ipython3",
   "version": "3.8.5"
  }
 },
 "nbformat": 4,
 "nbformat_minor": 4
}
