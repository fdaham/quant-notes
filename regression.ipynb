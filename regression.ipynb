{
 "cells": [
  {
   "cell_type": "markdown",
   "metadata": {},
   "source": [
    "# Regression\n",
    "\n",
    "## Linear Regression\n",
    "\n",
    "This is also known as least squares regression. When two variables $X$ and $Y$ are linearly related, their relationship can be written in the form of a regression line:\n",
    "\n",
    "\\begin{equation*}\n",
    "\\hat{Y} = a + bX\n",
    "\\label{eq:1} \\tag{1}\n",
    "\\end{equation*}\n",
    "\n",
    "where $a$ and $b$ are constants. Here's how to solve for the value of $b$:\n",
    "\n",
    "\\begin{equation*}\n",
    "\\begin{split}\n",
    "b &= \\frac{n \\sum (x_i y_i) - (\\sum x_i)(\\sum y_i)}{n \\sum ({x_i}^2) - ({x_i})^2} \\\\\n",
    "&= \\rho \\frac{\\sigma_y}{\\sigma_x}\n",
    "\\end{split}\n",
    "\\label{eq:2} \\tag{2}\n",
    "\\end{equation*}\n",
    "\n",
    "where $\\rho$ is the Pearson correlation coefficient. To find the value of $a$:\n",
    "\n",
    "\\begin{equation*}\n",
    "a = \\bar{y} - b \\bar{x}\n",
    "\\label{eq:3} \\tag{3}\n",
    "\\end{equation*}\n",
    "\n",
    "where $\\bar{x} = \\frac{\\sum x_i}{n}$ and $\\bar{y} = \\frac{\\sum y_i}{n}$. \n",
    "\n",
    "### Sum of Squares\n",
    "\n",
    "* Total Sum of Squares: $SST = \\sum (y_i - \\bar{y})^2$\n",
    "* Regression Sum of Squares: $SSR = \\sum (\\hat{y_i} - \\bar{y})^2$\n",
    "* Sum of Squares Error: $SSE = \\sum (\\hat{y_i} - y)^2$\n",
    "\n",
    "If SSE is small, we assume the fit is good. \n",
    "\n",
    "### R-Squared\n",
    "\n",
    "This is also known as the coefficient of determination. It is defined as:\n",
    "\n",
    "\\begin{equation*}\n",
    "R^2 = \\frac{SSR}{SST} = 1 - \\frac{SSE}{SST}\n",
    "\\label{eq:4} \\tag{4}\n",
    "\\end{equation*}\n",
    "\n",
    "When multiplied by 100, this becomes the percent of variance attributed to the linear regression between $X$ and $Y$."
   ]
  },
  {
   "cell_type": "markdown",
   "metadata": {},
   "source": [
    "## Multiple Linear Regression\n",
    "\n",
    "When $Y$ has a linear dependency on $m$ variables $x_1, x_2,..., x_m$:\n",
    "\n",
    "\\begin{equation*}\n",
    "\\hat{Y} = a + b_1 x_1 + b_2 x_2 + ... + b_m x_m\n",
    "\\label{eq:5} \\tag{5}\n",
    "\\end{equation*}\n",
    "\n",
    "which can be rewritten in the form of matrices as:"
   ]
  }
 ],
 "metadata": {
  "kernelspec": {
   "display_name": "Python 3",
   "language": "python",
   "name": "python3"
  },
  "language_info": {
   "codemirror_mode": {
    "name": "ipython",
    "version": 3
   },
   "file_extension": ".py",
   "mimetype": "text/x-python",
   "name": "python",
   "nbconvert_exporter": "python",
   "pygments_lexer": "ipython3",
   "version": "3.8.5"
  }
 },
 "nbformat": 4,
 "nbformat_minor": 4
}
