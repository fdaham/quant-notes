{
 "cells": [
  {
   "cell_type": "markdown",
   "metadata": {},
   "source": [
    "# Algorithms\n",
    "\n",
    "## Integration\n",
    "\n",
    "Write an algorithm to integrate $f(x)$ from $[a, b]$. Using the **numerical integration** midpoint rule, we have $\\int_{a}^{b} f(x)dx = \\sum_{i=1}^{n} f(m_i) \\Delta x$, where $m_i = a + (i + \\frac{1}{2})\\Delta x$ and $\\Delta x = \\frac{b-a}{n}$."
   ]
  },
  {
   "cell_type": "code",
   "execution_count": 8,
   "metadata": {},
   "outputs": [],
   "source": [
    "def integrate_numerically(a, b, n):\n",
    "    ans = 0\n",
    "    dx = (b-a)/n\n",
    "    for i in range(n):\n",
    "        ans += f(a + (i + 0.5)*dx)\n",
    "    return ans * dx"
   ]
  },
  {
   "cell_type": "markdown",
   "metadata": {},
   "source": [
    "Using **SciPy**:"
   ]
  },
  {
   "cell_type": "code",
   "execution_count": 9,
   "metadata": {},
   "outputs": [],
   "source": [
    "from scipy.integrate import quad\n",
    "\n",
    "def integrate_using_scipy(a, b):\n",
    "    return quad(f, a, b)[0]"
   ]
  },
  {
   "cell_type": "markdown",
   "metadata": {},
   "source": [
    "## Monte Carlo\n",
    "\n",
    "### The Airplane Problem\n",
    "\n",
    "There are 100 seats on a airplane and 100 boarding passengers. The seats are assigned by boarding order. The first passenger doesn't have a boarding pass, so they randomly sit in a seat. If they take the seat of another passenger, the other passenger will have to also randomly sit in another seat. What's the probability that the last passenger gets to sit in their own seat?\n",
    "\n",
    "This boils down to whether or not seat #1 is taken before seat #100. Since both events are equally likely to occur, the probability of the last passenger getting their own seat is $\\frac{1}{2}$. This can be simulated using Monte Carlo: "
   ]
  },
  {
   "cell_type": "code",
   "execution_count": 240,
   "metadata": {},
   "outputs": [],
   "source": [
    "from random import randint\n",
    "\n",
    "def simulate_boarding(n_passengers, n_simulations):\n",
    "    n_success = 0\n",
    "    for _ in range(n_simulations):\n",
    "        seats = [i for i in range(1, n_passengers + 1)]\n",
    "        taken_seats = set()\n",
    "        n_open_seats = n_passengers - 1\n",
    "        for passenger in range(1, n_passengers):    \n",
    "            if passenger == 1 or passenger in taken_seats:\n",
    "                i = randint(0, n_open_seats)\n",
    "                if seats[i] == 1 or seats[i] == n_passengers:\n",
    "                    n_success += 1 * (seats[i] % n_passengers)\n",
    "                    break\n",
    "            else:\n",
    "                i = seats.index(passenger)\n",
    "            taken_seats.add(seats[i])\n",
    "            seats[i], seats[n_open_seats - 1] = seats[n_open_seats - 1], seats[i]\n",
    "            n_open_seats -= 1\n",
    "    return n_success / n_simulations"
   ]
  },
  {
   "cell_type": "markdown",
   "metadata": {},
   "source": [
    "### Estimate Pi\n",
    "\n",
    "Use the Monte Carlo simulation to estimate pi. Picture a unit circle inscribed in a unit square with the origin at its center, then generate $n$ random points $(x,y)$ where $x, y \\in [0,1]$. That way, all points lie within the square. A point $(x,y)$ is within the circle if $\\sqrt{x^2 + y^2} \\leq 1$. As $n$ increases, the following approximation becomes more exact: \n",
    "\n",
    "\\begin{equation*}\n",
    "\\begin{split}\n",
    "\\frac{n_{circle}}{n} \\approx \\frac{\\pi r^2}{(2r)^2} \\\\\n",
    "\\Rightarrow \\pi \\approx 4 \\frac{n_{circle}}{n}\n",
    "\\end{split}\n",
    "\\end{equation*}\n",
    "\n",
    "where $n_{circle}$ is the number of points found within the unit circle. "
   ]
  },
  {
   "cell_type": "code",
   "execution_count": 232,
   "metadata": {},
   "outputs": [],
   "source": [
    "import random\n",
    "from math import sqrt\n",
    "\n",
    "def estimate_pi(n):\n",
    "    n_circle = 0\n",
    "    for _ in range(n):\n",
    "        x = random.uniform(0, 1)\n",
    "        y = random.uniform(0, 1)\n",
    "        if sqrt(x**2 + y**2) <= 1:\n",
    "            n_circle += 1\n",
    "    return 4 * n_circle / n"
   ]
  }
 ],
 "metadata": {
  "kernelspec": {
   "display_name": "Python 3",
   "language": "python",
   "name": "python3"
  },
  "language_info": {
   "codemirror_mode": {
    "name": "ipython",
    "version": 3
   },
   "file_extension": ".py",
   "mimetype": "text/x-python",
   "name": "python",
   "nbconvert_exporter": "python",
   "pygments_lexer": "ipython3",
   "version": "3.8.5"
  }
 },
 "nbformat": 4,
 "nbformat_minor": 4
}
