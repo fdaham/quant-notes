{
 "cells": [
  {
   "cell_type": "markdown",
   "metadata": {},
   "source": [
    "# Normal Distributions\n",
    "\n",
    "### Integrating Normal PDFs\n",
    "\n",
    "Let $X$ ~ $N(\\mu, {\\sigma}^{2})$. Then, the probability $P(X = x)$ is given by the integral of the normally distributed random variable's probability density function (PDF), which in this case is the normal (Gaussian) distribution. Specifically, the PDF of $X$ is:\n",
    "\n",
    "\\begin{equation*}\n",
    "f(x) = \\frac{1}{\\sigma \\sqrt{2 \\pi}} {e}^{-\\frac{{x - \\mu}^{2}}{2 {\\sigma}^{2}}}\n",
    "\\label{eq:1} \\tag{1}\n",
    "\\end{equation*}\n",
    "\n",
    "And the probability we're trying to solve for is:\n",
    "\n",
    "\\begin{equation*}\n",
    "\\begin{split}\n",
    "P(X = x) &= \\int_{-\\infty}^{\\infty} f(x) dx \\\\\n",
    "&= \\frac{1}{\\sigma \\sqrt{2 \\pi}} \\int_{-\\infty}^{\\infty} {e}^{-\\frac{{x - \\mu}^{2}}{2 {\\sigma}^{2}}} dx\n",
    "\\end{split}\n",
    "\\label{eq:2} \\tag{2}\n",
    "\\end{equation*}\n",
    "\n",
    "This is going to be difficult to solve without using polar coordinates, so the next few steps will be setting us up for that. First, let's define $u = \\frac{x - \\mu}{\\sigma}$ and $du = \\frac{dx}{\\sigma}$. The probability can then be rewritten as:\n",
    "\n",
    "\\begin{equation*}\n",
    "P(x) = \\frac{1}{\\sqrt{2 \\pi}} \\int_{-\\infty}^{\\infty} {e}^{-\\frac{1}{2} {u}^{2}} du\n",
    "\\label{eq:3} \\tag{3}\n",
    "\\end{equation*}\n",
    "\n",
    "To get the 2D cartesian plane variables needed for the polar coordinates conversion, we can square $P(x)$ and substitute one factor of $P(x)$ with $P(v)$ (where $u = v$): \n",
    "\n",
    "\\begin{equation*}\n",
    "\\begin{split}\n",
    "{P(x)}^{2} &= P(x)P(v) \\\\\n",
    "&= \\biggl(\\frac{1}{\\sqrt{2 \\pi}} \\int_{-\\infty}^{\\infty} {e}^{-\\frac{1}{2} {u}^{2}} du\\biggr) \\biggl(\\frac{1}{\\sqrt{2 \\pi}} \\int_{-\\infty}^{\\infty} {e}^{-\\frac{1}{2} {v}^{2}} dv \\biggr) \\\\\n",
    "&= \\frac{1}{2 \\pi} \\int_{-\\infty}^{\\infty} \\int_{-\\infty}^{\\infty} {e}^{-\\frac{{u}^{2} + {v}^{2}}{2}} dudv\n",
    "\\end{split}\n",
    "\\label{eq:4} \\tag{4}\n",
    "\\end{equation*}\n",
    "\n",
    "Now, we're ready to use polar coordinates. Our integral is from $-\\infty$ to $\\infty$ for both $u$ and $v$, which covers the entire cartesian plane. In terms of $r$ and $\\theta$, that's $0 \\leq \\theta \\leq 2\\pi$ and $0 \\leq r \\leq \\infty$. So,\n",
    "\n",
    "\\begin{equation*}\n",
    "\\begin{split}\n",
    "u = r \\cos \\theta \\\\\n",
    "v = r \\sin \\theta\n",
    "\\end{split}\n",
    "\\label{eq:5} \\tag{5}\n",
    "\\end{equation*}\n",
    "\n",
    "Plugging those back into ${P(x)}^2$, we have:\n",
    "\n",
    "\\begin{equation*}\n",
    "{P(x)}^{2} = \\frac{1}{2 \\pi} \\int_{0}^{2\\pi} \\int_{0}^{\\infty} {e}^{-\\frac{r{\\cos}^{2}\\theta + r{\\sin}^{2}\\theta}{2}} \\lvert J\\lvert dr d\\theta\n",
    "\\label{eq:6} \\tag{6}\n",
    "\\end{equation*}\n",
    "\n",
    "And, solving for the determinant of the Jacobian, we have:\n",
    "\n",
    "\\begin{equation*}\n",
    "\\begin{split}\n",
    "\\lvert J \\lvert &= \\begin{vmatrix}\n",
    "\\frac{\\delta u}{\\delta\\theta} & \\frac{\\delta u}{\\delta r} \\\\\n",
    "\\frac{\\delta v}{\\delta\\theta} & \\frac{\\delta v}{\\delta r} \n",
    "\\end{vmatrix} = \\begin{vmatrix}\n",
    "-r \\sin \\theta & \\cos \\theta \\\\\n",
    "r \\cos \\theta & \\sin \\theta\n",
    "\\end{vmatrix} \\\\\n",
    "&= \\lvert (-r \\sin \\theta)(\\sin \\theta) - (r \\cos \\theta)(\\cos \\theta)\\lvert \\\\\n",
    "& = \\lvert -r({\\cos}^{2}\\theta + {\\sin}^{2}\\theta) \\lvert = \\lvert -r \\lvert = r\n",
    "\\end{split}\n",
    "\\label{eq:7} \\tag{7}\n",
    "\\end{equation*}\n",
    "\n",
    "This makes ${P(x)}^{2}$ a lot simpler to solve. Using substitution again, let's set $w = \\frac{{r}^{2}}{2}$ and $dw = rdr$:  \n",
    "\n",
    "\\begin{equation*}\n",
    "\\begin{split}\n",
    "{P(x)}^{2} &= \\frac{1}{2 \\pi} \\int_{0}^{2\\pi} \\biggl[\\int_{0}^{\\infty} {e}^{-w} dw\\biggr] d\\theta = \\frac{1}{2 \\pi} \\int_{0}^{2\\pi} {\\biggl[-{e}^{-w} \\biggr]}^{\\infty}_{0} d\\theta \\\\\n",
    "& = \\frac{1}{2 \\pi} \\int_{0}^{2\\pi} d\\theta = \\frac{1}{2 \\pi} {\\biggl[\\theta\\biggr]}^{2\\pi}_{0} = 1\n",
    "\\end{split}\n",
    "\\label{eq:8} \\tag{8}\n",
    "\\end{equation*}\n",
    "\n",
    "Therefore, $P(X = x) = 1$.\n",
    "\n",
    "### Example\n",
    "\n",
    "Using [this HackerRank problem](https://www.hackerrank.com/challenges/normal-distribution-1/problem) as an example, we have $X$ ~ $N(30, 16)$ and want to find $P(x < 40)$, $P(x > 21)$, and $P(30 < x < 35)$. Note that instead of using +/- $\\infty$, we can use $\\mu$ +/- $4\\sigma$."
   ]
  },
  {
   "cell_type": "code",
   "execution_count": 44,
   "metadata": {},
   "outputs": [
    {
     "name": "stdout",
     "output_type": "stream",
     "text": [
      "P(x < 40) =  0.994\n",
      "P(x > 21) =  0.988\n",
      "P(30 < x < 35) =  0.394\n"
     ]
    }
   ],
   "source": [
    "from scipy.integrate import quad\n",
    "import scipy.stats\n",
    "\n",
    "mean = 30.0 \n",
    "std = 4.0\n",
    "\n",
    "def normal_distribution(x):\n",
    "    return scipy.stats.norm.pdf(x, mean, std)\n",
    "\n",
    "def solve(x1, x2):\n",
    "    res, err = quad(normal_distribution, x1, x2)\n",
    "    return round(res, 3)\n",
    " \n",
    "print(\"P(x < 40) = \", solve(mean - 4*std, 40))\n",
    "print(\"P(x > 21) = \", solve(21, mean + 4*std))\n",
    "print(\"P(30 < x < 35) = \", solve(30, 35))"
   ]
  },
  {
   "cell_type": "markdown",
   "metadata": {},
   "source": [
    "The following is a visual representation of the last probability solved above:"
   ]
  },
  {
   "cell_type": "code",
   "execution_count": 45,
   "metadata": {},
   "outputs": [
    {
     "data": {
      "image/png": "[encoded data removed]",
      "text/plain": [
       "<Figure size 432x288 with 1 Axes>"
      ]
     },
     "metadata": {
      "needs_background": "light"
     },
     "output_type": "display_data"
    }
   ],
   "source": [
    "import matplotlib.pyplot as plt\n",
    "\n",
    "# Plot normal distribution\n",
    "x_min = mean - 4*std\n",
    "x_max = mean + 4*std\n",
    "x = np.linspace(x_min, x_max)\n",
    "y = normal_distribution(x)\n",
    "plt.plot(x, y)\n",
    "\n",
    "# Plot probability\n",
    "px = np.linspace(30, 35)\n",
    "py = normal_distribution(px)\n",
    "plt.fill_between(px, py)\n",
    "\n",
    "# Fix plot settings\n",
    "plt.grid()\n",
    "plt.xlim(x_min,x_max)\n",
    "plt.title('P(30 < x < 35)')\n",
    "plt.xlabel('x')\n",
    "plt.ylabel('Normal Distribution')\n",
    "plt.show()"
   ]
  }
 ],
 "metadata": {
  "kernelspec": {
   "display_name": "Python 3",
   "language": "python",
   "name": "python3"
  },
  "language_info": {
   "codemirror_mode": {
    "name": "ipython",
    "version": 3
   },
   "file_extension": ".py",
   "mimetype": "text/x-python",
   "name": "python",
   "nbconvert_exporter": "python",
   "pygments_lexer": "ipython3",
   "version": "3.8.5"
  }
 },
 "nbformat": 4,
 "nbformat_minor": 4
}
