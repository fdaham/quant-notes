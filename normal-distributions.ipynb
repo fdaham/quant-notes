{
 "cells": [
  {
   "cell_type": "markdown",
   "metadata": {},
   "source": [
    "# Normal Distributions\n",
    "\n",
    "### Integrating Normal PDFs\n",
    "\n",
    "The following is the probability density function (PDF) of a normal (Gaussian) distribution for a continuous random variable $X$ ~ $N(\\mu, {\\sigma}^{2})$:\n",
    "\n",
    "\\begin{equation*}\n",
    "f_X(x) = \\frac{1}{\\sqrt{2 \\pi} \\sigma} {e}^{-\\frac{{x - \\mu}^{2}}{2 {\\sigma^2}}}\n",
    "\\label{eq:1} \\tag{1}\n",
    "\\end{equation*}\n",
    "\n",
    "And the probability of $X$ is given by the integral of that PDF:\n",
    "\n",
    "\\begin{equation*}\n",
    "\\begin{split}\n",
    "P(X = x) &= \\int_{-\\infty}^{\\infty} f(x) dx \\\\\n",
    "&= \\frac{1}{\\sqrt{2 \\pi} \\sigma} \\int_{-\\infty}^{\\infty} {e}^{-\\frac{{x - \\mu}^{2}}{2 {\\sigma}^{2}}} dx\n",
    "\\end{split}\n",
    "\\label{eq:2} \\tag{2}\n",
    "\\end{equation*}\n",
    "\n",
    "This probability is difficult to solve without using polar coordinates, so the next few steps will set us up for that. First, let's define $u = \\frac{x - \\mu}{\\sigma}$ and $du = \\frac{dx}{\\sigma}$. The probability can then be rewritten as:\n",
    "\n",
    "\\begin{equation*}\n",
    "P(x) = \\frac{1}{\\sqrt{2 \\pi}} \\int_{-\\infty}^{\\infty} {e}^{-\\frac{1}{2} {u}^{2}} du\n",
    "\\label{eq:3} \\tag{3}\n",
    "\\end{equation*}\n",
    "\n",
    "To get the 2D cartesian plane variables needed for the polar coordinates conversion, we can square $P(x)$ and substitute one factor of $P(x)$ with $P(v)$ (where $u = v$): \n",
    "\n",
    "\\begin{equation*}\n",
    "\\begin{split}\n",
    "{P(x)}^{2} &= P(x)P(v) \\\\\n",
    "&= \\biggl(\\frac{1}{\\sqrt{2 \\pi}} \\int_{-\\infty}^{\\infty} {e}^{-\\frac{1}{2} {u}^{2}} du\\biggr) \\biggl(\\frac{1}{\\sqrt{2 \\pi}} \\int_{-\\infty}^{\\infty} {e}^{-\\frac{1}{2} {v}^{2}} dv \\biggr) \\\\\n",
    "&= \\frac{1}{2 \\pi} \\int_{-\\infty}^{\\infty} \\int_{-\\infty}^{\\infty} {e}^{-\\frac{{u}^{2} + {v}^{2}}{2}} dudv\n",
    "\\end{split}\n",
    "\\label{eq:4} \\tag{4}\n",
    "\\end{equation*}\n",
    "\n",
    "Now, we're ready to use polar coordinates. Our integral is from $-\\infty$ to $\\infty$ for both $u$ and $v$, which covers the entire cartesian plane. In terms of $r$ and $\\theta$, that's $0 \\leq \\theta \\leq 2\\pi$ and $0 \\leq r \\leq \\infty$. That gives us:\n",
    "\n",
    "\\begin{equation*}\n",
    "\\begin{split} \n",
    "u = r \\cos \\theta \\\\\n",
    "v = r \\sin \\theta\n",
    "\\end{split}\n",
    "\\label{eq:5} \\tag{5}\n",
    "\\end{equation*}\n",
    "\n",
    "Plugging those back into ${P(x)}^2$, we have:\n",
    "\n",
    "\\begin{equation*}\n",
    "\\begin{split} \n",
    "{P(x)}^{2} &= \\frac{1}{2 \\pi} \\int_{0}^{2\\pi} \\int_{0}^{\\infty} {e}^{-\\frac{r^2{\\cos}^{2}\\theta + r^2{\\sin}^{2}\\theta}{2}} \\lvert J\\lvert dr d\\theta \\\\\n",
    "&= \\frac{1}{2 \\pi} \\int_{0}^{2\\pi} \\int_{0}^{\\infty} {e}^{-\\frac{r^2}{2}} \\lvert J\\lvert dr d\\theta\n",
    "\\end{split}\n",
    "\\label{eq:6} \\tag{6}\n",
    "\\end{equation*}\n",
    "\n",
    "Solving for the determinant of the Jacobian, we have:\n",
    "\n",
    "\\begin{equation*}\n",
    "\\begin{split}\n",
    "\\lvert J \\lvert &= \\begin{vmatrix}\n",
    "\\frac{\\delta u}{\\delta\\theta} & \\frac{\\delta u}{\\delta r} \\\\\n",
    "\\frac{\\delta v}{\\delta\\theta} & \\frac{\\delta v}{\\delta r} \n",
    "\\end{vmatrix} = \\begin{vmatrix}\n",
    "-r \\sin \\theta & \\cos \\theta \\\\\n",
    "r \\cos \\theta & \\sin \\theta\n",
    "\\end{vmatrix} \\\\\n",
    "&= \\lvert (-r \\sin \\theta)(\\sin \\theta) - (r \\cos \\theta)(\\cos \\theta)\\lvert \\\\\n",
    "& = \\lvert -r({\\cos}^{2}\\theta + {\\sin}^{2}\\theta) \\lvert = \\lvert -r \\lvert = r\n",
    "\\end{split}\n",
    "\\label{eq:7} \\tag{7}\n",
    "\\end{equation*}\n",
    "\n",
    "Using substitution again, let's set $w = \\frac{{r}^{2}}{2}$ and $dw = rdr$:  \n",
    "\n",
    "\\begin{equation*}\n",
    "\\begin{split}\n",
    "{P(x)}^{2} &= \\frac{1}{2 \\pi} \\int_{0}^{2\\pi} \\biggl[\\int_{0}^{\\infty} {e}^{-w} dw\\biggr] d\\theta = \\frac{1}{2 \\pi} \\int_{0}^{2\\pi} {\\biggl[-{e}^{-w} \\biggr]}^{\\infty}_{0} d\\theta \\\\\n",
    "& = \\frac{1}{2 \\pi} \\int_{0}^{2\\pi} d\\theta = \\frac{1}{2 \\pi} {\\biggl[\\theta\\biggr]}^{2\\pi}_{0} = 1\n",
    "\\end{split}\n",
    "\\label{eq:8} \\tag{8}\n",
    "\\end{equation*}\n",
    "\n",
    "Therefore, $P(X = x) = 1$.\n",
    "\n",
    "#### Example\n",
    "\n",
    "Using [this HackerRank problem](https://www.hackerrank.com/challenges/normal-distribution-1/problem) as an example, we have $X$ ~ $N(30, 4^2)$ and want to find $P(x < 40)$, $P(x > 21)$, and $P(30 < x < 35)$. Note that $\\mu \\pm 4\\sigma$ (`x_min` and `x_max`) is used in place of $\\pm \\infty$."
   ]
  },
  {
   "cell_type": "code",
   "execution_count": 4,
   "metadata": {},
   "outputs": [
    {
     "name": "stdout",
     "output_type": "stream",
     "text": [
      "P(x < 40) =  0.994\n",
      "P(x > 21) =  0.988\n",
      "P(30 < x < 35) =  0.394\n"
     ]
    }
   ],
   "source": [
    "from scipy.integrate import quad\n",
    "import scipy.stats\n",
    "\n",
    "mean = 30 \n",
    "std = 4\n",
    "x_min = mean - 4*std\n",
    "x_max = mean + 4*std\n",
    "\n",
    "def normal_distribution(x):\n",
    "    return scipy.stats.norm.pdf(x, mean, std)\n",
    "\n",
    "def solve(x1, x2):\n",
    "    return round(quad(normal_distribution, x1, x2)[0], 3)\n",
    " \n",
    "print(\"P(x < 40) = \", solve(x_min, 40))\n",
    "print(\"P(x > 21) = \", solve(21, x_max))\n",
    "print(\"P(30 < x < 35) = \", solve(30, 35))"
   ]
  },
  {
   "cell_type": "markdown",
   "metadata": {},
   "source": [
    "This is the HackerRank-friendly version using only `math`:"
   ]
  },
  {
   "cell_type": "code",
   "execution_count": 5,
   "metadata": {},
   "outputs": [
    {
     "name": "stdout",
     "output_type": "stream",
     "text": [
      "P(x < 40) =  0.994\n",
      "P(x > 21) =  0.988\n",
      "P(30 < x < 35) =  0.394\n"
     ]
    }
   ],
   "source": [
    "import math\n",
    "from math import erf, sqrt\n",
    "\n",
    "def normal_distribution2(x):\n",
    "    return 0.5 * (1 + erf((x - mean) / (std * sqrt(2))))\n",
    "\n",
    "def solve2(x1, x2):\n",
    "    return round(normal_distribution2(x2) - normal_distribution2(x1), 3)\n",
    "\n",
    "print(\"P(x < 40) = \", solve2(x_min, 40))\n",
    "print(\"P(x > 21) = \", solve2(21, x_max))\n",
    "print(\"P(30 < x < 35) = \", solve2(30, 35))"
   ]
  },
  {
   "cell_type": "markdown",
   "metadata": {},
   "source": [
    "And the following is a visual representation of those probabilities:"
   ]
  },
  {
   "cell_type": "code",
   "execution_count": 15,
   "metadata": {},
   "outputs": [
    {
     "data": {
      "image/png": "[encoded data removed]",
      "text/plain": [
       "<Figure size 432x288 with 1 Axes>"
      ]
     },
     "metadata": {
      "needs_background": "light"
     },
     "output_type": "display_data"
    },
    {
     "data": {
      "image/png": "[encoded data removed]",
      "text/plain": [
       "<Figure size 432x288 with 1 Axes>"
      ]
     },
     "metadata": {
      "needs_background": "light"
     },
     "output_type": "display_data"
    },
    {
     "data": {
      "image/png": "[encoded data removed]",
      "text/plain": [
       "<Figure size 432x288 with 1 Axes>"
      ]
     },
     "metadata": {
      "needs_background": "light"
     },
     "output_type": "display_data"
    }
   ],
   "source": [
    "import numpy as np\n",
    "import matplotlib.pyplot as plt\n",
    "\n",
    "x = np.linspace(x_min, x_max)\n",
    "y = normal_distribution(x)\n",
    "\n",
    "def plot_normal_distribution(x1, x2, plot_title):\n",
    "    plt.plot(x, y)\n",
    "    plt.grid()\n",
    "    plt.xlim(x_min,x_max)\n",
    "    plt.title(plot_title)\n",
    "    plt.xlabel('x')\n",
    "    plt.ylabel('Normal Distribution')\n",
    "    # Plot probability\n",
    "    px = np.linspace(x1, x2)\n",
    "    py = normal_distribution(px)\n",
    "    plt.fill_between(px, py)\n",
    "    plt.show()\n",
    "    \n",
    "plot_normal_distribution(x_min, 40, \"P(x < 40)\")\n",
    "plot_normal_distribution(21, x_max, \"P(x > 21)\")\n",
    "plot_normal_distribution(30, 35, \"P(30 < x < 35)\")"
   ]
  },
  {
   "cell_type": "markdown",
   "metadata": {},
   "source": [
    "### Sum of IID Normal Random Variables\n",
    "\n",
    "The sum of two independent and identically distributed (IID) normal random variables $X$ ~ $N(\\mu_x, \\sigma_x^2)$ and $Y$ ~ $N(\\mu_y, \\sigma_y^2)$ is also normal, i.e.  $(X + Y)$ ~ $N(\\mu_x + \\mu_y, \\sigma_x^2 + \\sigma_y^2)$. Similarly, this applies to the sum of any number of independent normal random variables. \n",
    "\n",
    "#### Proof using convolutions\n",
    "\n",
    "The PDFs of independent random variables $X$ and $Y$ are:\n",
    "\n",
    "\\begin{equation*}\n",
    "\\begin{split}\n",
    "f_X(x) &= \\frac{1}{\\sqrt{2 \\pi} \\sigma_x} {e}^{-\\frac{(x - \\mu_x)^{2}}{2 {\\sigma_x^2}}} \\\\\n",
    "f_Y(y) &= \\frac{1}{\\sqrt{2 \\pi} \\sigma_y} {e}^{-\\frac{(y - \\mu_y)^{2}}{2 {\\sigma_y^2}}}\n",
    "\\end{split}\n",
    "\\label{eq:9} \\tag{9}\n",
    "\\end{equation*}\n",
    "\n",
    "And the distribution of their sum $Z$ is the convolution of $f_X(x)$ and $f_Y(y)$:\n",
    "\n",
    "\\begin{equation*}\n",
    "\\begin{split}\n",
    "f_Z(z) &= \\int_{-\\infty}^{\\infty} f_X(x) f_Y(z-x) dx \\\\\n",
    "&= \\int_{-\\infty}^{\\infty} \\frac{1}{2 \\pi \\sigma_x \\sigma_y} {e}^{-\\frac{\\sigma_x^2(z - x - \\mu_y)^2 + \\sigma_y^2(x - \\mu_x)^2}{2\\sigma_x^2 \\sigma_y^2}} dx \\\\\n",
    "&= \\int_{-\\infty}^{\\infty} \\frac{1}{2 \\pi \\sigma_x \\sigma_y} {e}^{-\\frac{x^2(\\sigma_x^2 + \\sigma_y^2) - 2x(\\sigma_x^2 (z - \\mu_y) + \\sigma_y^2 \\mu_x) + \\sigma_x^2 (z^2 +\\mu_y^2 -2z \\mu_y) + \\sigma_y^2 \\mu_x^2}{2\\sigma_x^2 \\sigma_y^2}} dx\n",
    "\\end{split}\n",
    "\\label{eq:10} \\tag{10}\n",
    "\\end{equation*}\n",
    "\n",
    "Defining $\\sigma_z^2 = \\sigma_x^2 + \\sigma_y^2$ and completing the square gives us:\n",
    "\n",
    "\\begin{equation*}\n",
    "\\begin{split}\n",
    "f_Z(z) &= \\int_{-\\infty}^{\\infty} \\frac{1}{\\frac{2 \\pi \\sigma_z \\sigma_x \\sigma_y}{\\sigma_z}} {e}^{-\\frac{x^2 - \\frac{2x(\\sigma_x^2 (z - \\mu_y) + \\sigma_y^2 \\mu_x) + \\sigma_x^2 (z^2 +\\mu_y^2 -2z \\mu_y) + \\sigma_y^2 \\mu_x^2}{\\sigma_z^2}}{2\\biggl(\\frac{\\sigma_x \\sigma_y}{\\sigma_z}\\biggr)^2}} dx \\\\\n",
    "&= \\int_{-\\infty}^{\\infty} \\frac{1}{\\frac{2 \\pi \\sigma_z \\sigma_x \\sigma_y}{\\sigma_z}} {e}^{-\\frac{\\biggl(x - \\frac{\\sigma_x^2 (z - \\mu_y) + \\sigma_y^2\\mu_x}{\\sigma_z^2} \\biggr)^2 - \\biggl(\\frac{\\sigma_x^2 (z - \\mu_y) + \\sigma_y^2\\mu_x}{\\sigma_z^2} \\biggr)^2 + \\frac{\\sigma_x^2 (z - \\mu_y) + \\sigma_y^2\\mu_x}{\\sigma_z^2}}{2\\biggl(\\frac{\\sigma_x \\sigma_y}{\\sigma_z}\\biggr)^2}} dx \\\\\n",
    "&= \\frac{1}{\\sqrt{2} \\pi \\sigma_z} {e}^{-\\frac{(z - (\\mu_x + \\mu_y))^2}{2\\sigma_z^2}} \\int_{-\\infty}^{\\infty} \\frac{1}{\\frac{\\sqrt{2} \\pi \\sigma_x \\sigma_y}{\\sigma_z}} {e}^{-\\frac{\\biggl(x - \\frac{\\sigma_x^2 (z - \\mu_y) + \\sigma_y^2\\mu_x}{\\sigma_z^2} \\biggr)^2}{2\\biggl(\\frac{\\sigma_x \\sigma_y}{\\sigma_z}\\biggr)^2}} dx\n",
    "\\end{split}\n",
    "\\label{eq:11} \\tag{11}\n",
    "\\end{equation*}\n",
    "\n",
    "The integral is a normal density distribution on $x$ with a standard deviation of $\\frac{\\sigma_x \\sigma_y}{\\sigma_z}$, which we know is equal to 1. Therefore, the PDF of $X + Y$ is the following normal distribution with a mean of $\\mu_x + \\mu_y$ and standard deviation $\\sigma_z^2$: \n",
    "\n",
    "\\begin{equation*}\n",
    "f_Z(z) = \\frac{1}{\\sqrt{2} \\pi \\sigma_z} {e}^{-\\frac{(z - (\\mu_x + \\mu_y))^2}{2\\sigma_z^2}}\n",
    "\\label{eq:12} \\tag{12}\n",
    "\\end{equation*}\n",
    "\n",
    "#### Proof using MGF\n",
    "\n",
    "Moment generating functions (MGFs) can be used to uniquely determine the distribution sum of random variables. The MGFs of normally distributed random variables $X$ and $Y$ are:\n",
    "\n",
    "\\begin{equation*}\n",
    "\\begin{split}\n",
    "\\phi_X(t) &= e^{\\mu_x t + \\frac{1}{2}\\sigma_x^2 t^2} \\\\\n",
    "\\phi_Y(t) &= e^{\\mu_y t + \\frac{1}{2}\\sigma_y^2 t^2}\n",
    "\\end{split}\n",
    "\\label{eq:13} \\tag{13}\n",
    "\\end{equation*}\n",
    "\n",
    "The MGF of $X+Y$ is simply the product of the two independent random variables $X$ and $Y$:\n",
    "\n",
    "\\begin{equation*}\n",
    "\\begin{split}\n",
    "\\phi_{X+Y}(t) &= \\phi_X(t) \\cdot \\phi_Y(t) \\\\\n",
    "&= e^{\\mu_x t + \\frac{1}{2}\\sigma_x^2 t^2} \\cdot e^{\\mu_y t + \\frac{1}{2}\\sigma_y^2 t^2} \\\\\n",
    "&= e^{(\\mu_x + \\mu_y)t + \\frac{1}{2}(\\sigma_x^2 + \\sigma_y^2)t^2}\n",
    "\\end{split}\n",
    "\\label{eq:14} \\tag{14}\n",
    "\\end{equation*}\n",
    "\n",
    "Which proves that $X + Y$ ~ $N(\\mu_x + \\mu_y, \\sigma_x^2 + \\sigma_y^2)$.\n",
    "\n",
    "### Product of IID Normal Random Variables\n",
    "\n",
    "The product of two IID normal random variables $X$ and $Y$ (as defined above) is **not** normal. It's actually a linear combination of two Chi-squared random variables: \n",
    "\n",
    "\\begin{equation*}\n",
    "XY = \\frac{1}{4}(X + Y)^2 - \\frac{1}{4}(X - Y)^2 \n",
    "\\label{eq:15} \\tag{15}\n",
    "\\end{equation*}\n",
    "\n",
    "Knowing that $(X+Y)$ ~ $N(0, 2)$ and $(X-Y)$ ~ $N(0, 2)$, we have $\\frac{(X + Y)^2}{2}$ ~ $\\chi_1^2$ and $\\frac{(X - Y)^2}{2}$ ~ $\\chi_1^2$, respectively. The sum of two Chi-squared random variables is itself a Chi-squared random variable. This applies to the product of any number of independent normal random variables. However, the product of the PDFs for $X$ and $Y$ **is** a bivariate normal distribution with zero correlation.   "
   ]
  }
 ],
 "metadata": {
  "kernelspec": {
   "display_name": "Python 3",
   "language": "python",
   "name": "python3"
  },
  "language_info": {
   "codemirror_mode": {
    "name": "ipython",
    "version": 3
   },
   "file_extension": ".py",
   "mimetype": "text/x-python",
   "name": "python",
   "nbconvert_exporter": "python",
   "pygments_lexer": "ipython3",
   "version": "3.8.5"
  }
 },
 "nbformat": 4,
 "nbformat_minor": 4
}
